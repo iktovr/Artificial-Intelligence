{
  "cells": [
    {
      "cell_type": "markdown",
      "metadata": {
        "tags": [],
        "id": "GPqvA-tT3HXa"
      },
      "source": [
        "## Лабораторная работа по курсу \"Искусственный интеллект\"\n",
        "## Многослойный персептрон\n",
        "\n",
        "| Студент | Бирюков |\n",
        "|---------|--------|\n",
        "| Группа  | 7      |"
      ]
    },
    {
      "cell_type": "markdown",
      "metadata": {
        "id": "YgpBMR2M3HXf"
      },
      "source": [
        "**Вариант:** 2. Tensorflow/Keras"
      ]
    },
    {
      "cell_type": "code",
      "execution_count": 1,
      "metadata": {
        "id": "V_NClhnM3HXh"
      },
      "outputs": [],
      "source": [
        "import tensorflow as tf\n",
        "import tensorflow_datasets as tfds\n",
        "import matplotlib.pyplot as plt\n",
        "import numpy as np"
      ]
    },
    {
      "cell_type": "code",
      "execution_count": 2,
      "metadata": {
        "id": "SVVPk3TT3HXk"
      },
      "outputs": [],
      "source": [
        "def normalize_img(image, label):\n",
        "    return tf.cast(image, tf.float32) / 255., label\n",
        "\n",
        "def plot(model, h, test):\n",
        "    pred = model.predict(test.batch(128))\n",
        "    labels = np.concatenate([y for x, y in test.batch(1000)], axis=0)\n",
        "    conf_matrix = tf.math.confusion_matrix(labels, pred.argmax(axis=1))\n",
        "    \n",
        "    figure = plt.figure(figsize=(15, 4))\n",
        "    axes = figure.add_subplot(1, 2, 1)\n",
        "    plt.xticks([])\n",
        "    plt.yticks([])\n",
        "    matr = axes.imshow(conf_matrix)\n",
        "    figure.colorbar(matr)\n",
        "    axes = figure.add_subplot(1, 2, 2)\n",
        "    plt.xticks(range(1, len(h.history['accuracy'])+1))\n",
        "    plt.plot(h.history['accuracy'], 'k--')\n",
        "    plt.plot(h.history['val_accuracy'], 'g-')\n",
        "    plt.show()"
      ]
    },
    {
      "cell_type": "markdown",
      "metadata": {
        "tags": [],
        "id": "b9d7dtwQ3HXn"
      },
      "source": [
        "## MNIST"
      ]
    },
    {
      "cell_type": "code",
      "execution_count": null,
      "metadata": {
        "id": "UL_vMETo3HXp"
      },
      "outputs": [],
      "source": [
        "(mnist_train, mnist_test), mnist_info = tfds.load(\n",
        "    'mnist',\n",
        "    split=['train', 'test'],\n",
        "    shuffle_files=True,\n",
        "    as_supervised=True,\n",
        "    with_info=True\n",
        ")"
      ]
    },
    {
      "cell_type": "code",
      "execution_count": null,
      "metadata": {
        "id": "HHb3_J4b3HXr"
      },
      "outputs": [],
      "source": [
        "mnist_train = mnist_train.map(\n",
        "    normalize_img, num_parallel_calls=tf.data.AUTOTUNE)\n",
        "mnist_train = mnist_train.cache()\n",
        "mnist_train = mnist_train.shuffle(mnist_info.splits['train'].num_examples)\n",
        "\n",
        "mnist_test = mnist_test.map(\n",
        "    normalize_img, num_parallel_calls=tf.data.AUTOTUNE)"
      ]
    },
    {
      "cell_type": "markdown",
      "metadata": {
        "id": "prtb0_d43HXs"
      },
      "source": [
        "### Однослойный персептрон"
      ]
    },
    {
      "cell_type": "code",
      "execution_count": null,
      "metadata": {
        "tags": [],
        "id": "Mx_tyxWv3HXt",
        "outputId": "b5597267-1a68-4ba1-95bd-c335520fbbf9"
      },
      "outputs": [
        {
          "name": "stdout",
          "output_type": "stream",
          "text": [
            "Epoch 1/10\n",
            "938/938 - 2s - loss: 1.0059 - accuracy: 0.7698 - val_loss: 0.6102 - val_accuracy: 0.8621 - 2s/epoch - 2ms/step\n",
            "Epoch 2/10\n",
            "938/938 - 2s - loss: 0.5576 - accuracy: 0.8637 - val_loss: 0.4817 - val_accuracy: 0.8814 - 2s/epoch - 2ms/step\n",
            "Epoch 3/10\n",
            "938/938 - 2s - loss: 0.4759 - accuracy: 0.8773 - val_loss: 0.4305 - val_accuracy: 0.8892 - 2s/epoch - 2ms/step\n",
            "Epoch 4/10\n",
            "938/938 - 2s - loss: 0.4360 - accuracy: 0.8850 - val_loss: 0.4015 - val_accuracy: 0.8961 - 2s/epoch - 2ms/step\n",
            "Epoch 5/10\n",
            "938/938 - 2s - loss: 0.4115 - accuracy: 0.8898 - val_loss: 0.3821 - val_accuracy: 0.8997 - 2s/epoch - 2ms/step\n",
            "Epoch 6/10\n",
            "938/938 - 2s - loss: 0.3942 - accuracy: 0.8933 - val_loss: 0.3681 - val_accuracy: 0.9014 - 2s/epoch - 2ms/step\n",
            "Epoch 7/10\n",
            "938/938 - 2s - loss: 0.3813 - accuracy: 0.8959 - val_loss: 0.3577 - val_accuracy: 0.9038 - 2s/epoch - 2ms/step\n",
            "Epoch 8/10\n",
            "938/938 - 2s - loss: 0.3713 - accuracy: 0.8982 - val_loss: 0.3496 - val_accuracy: 0.9049 - 2s/epoch - 2ms/step\n",
            "Epoch 9/10\n",
            "938/938 - 2s - loss: 0.3631 - accuracy: 0.9003 - val_loss: 0.3421 - val_accuracy: 0.9058 - 2s/epoch - 2ms/step\n",
            "Epoch 10/10\n",
            "938/938 - 2s - loss: 0.3562 - accuracy: 0.9018 - val_loss: 0.3368 - val_accuracy: 0.9080 - 2s/epoch - 2ms/step\n"
          ]
        },
        {
          "data": {
            "image/png": "[encoded data removed]",
            "text/plain": [
              "<Figure size 1080x288 with 3 Axes>"
            ]
          },
          "metadata": {
            "needs_background": "light"
          },
          "output_type": "display_data"
        }
      ],
      "source": [
        "model = tf.keras.models.Sequential([\n",
        "    tf.keras.layers.Flatten(input_shape=(28, 28)),\n",
        "    tf.keras.layers.Dense(10)\n",
        "])\n",
        "\n",
        "model.compile('sgd', tf.keras.losses.SparseCategoricalCrossentropy(from_logits=True), ['accuracy'])\n",
        "h = model.fit(mnist_train.batch(64), epochs = 10, validation_data = mnist_test.batch(64), verbose = 2)\n",
        "plot(model, h, mnist_test)"
      ]
    },
    {
      "cell_type": "markdown",
      "metadata": {
        "id": "qdXjjpwf3HXw"
      },
      "source": [
        "Adam показывает лучший результат. 93% по всей видимости является пределом для однослойной модели"
      ]
    },
    {
      "cell_type": "code",
      "execution_count": null,
      "metadata": {
        "tags": [],
        "id": "QVui-8rV3HXw",
        "outputId": "3a2a1ff7-e24c-4aed-cbc6-4a4c7f882881"
      },
      "outputs": [
        {
          "name": "stdout",
          "output_type": "stream",
          "text": [
            "Epoch 1/10\n",
            "938/938 - 2s - loss: 0.5544 - accuracy: 0.8600 - val_loss: 0.3349 - val_accuracy: 0.9105 - 2s/epoch - 2ms/step\n",
            "Epoch 2/10\n",
            "938/938 - 2s - loss: 0.3245 - accuracy: 0.9106 - val_loss: 0.2929 - val_accuracy: 0.9197 - 2s/epoch - 2ms/step\n",
            "Epoch 3/10\n",
            "938/938 - 2s - loss: 0.2958 - accuracy: 0.9176 - val_loss: 0.2831 - val_accuracy: 0.9203 - 2s/epoch - 2ms/step\n",
            "Epoch 4/10\n",
            "938/938 - 2s - loss: 0.2825 - accuracy: 0.9211 - val_loss: 0.2740 - val_accuracy: 0.9228 - 2s/epoch - 2ms/step\n",
            "Epoch 5/10\n",
            "938/938 - 2s - loss: 0.2742 - accuracy: 0.9233 - val_loss: 0.2697 - val_accuracy: 0.9250 - 2s/epoch - 2ms/step\n",
            "Epoch 6/10\n",
            "938/938 - 2s - loss: 0.2682 - accuracy: 0.9258 - val_loss: 0.2655 - val_accuracy: 0.9265 - 2s/epoch - 2ms/step\n",
            "Epoch 7/10\n",
            "938/938 - 2s - loss: 0.2642 - accuracy: 0.9267 - val_loss: 0.2677 - val_accuracy: 0.9263 - 2s/epoch - 2ms/step\n",
            "Epoch 8/10\n",
            "938/938 - 2s - loss: 0.2605 - accuracy: 0.9279 - val_loss: 0.2671 - val_accuracy: 0.9265 - 2s/epoch - 2ms/step\n",
            "Epoch 9/10\n",
            "938/938 - 2s - loss: 0.2574 - accuracy: 0.9291 - val_loss: 0.2621 - val_accuracy: 0.9276 - 2s/epoch - 2ms/step\n",
            "Epoch 10/10\n",
            "938/938 - 2s - loss: 0.2553 - accuracy: 0.9292 - val_loss: 0.2630 - val_accuracy: 0.9282 - 2s/epoch - 2ms/step\n"
          ]
        },
        {
          "data": {
            "image/png": "[encoded data removed]",
            "text/plain": [
              "<Figure size 1080x288 with 3 Axes>"
            ]
          },
          "metadata": {
            "needs_background": "light"
          },
          "output_type": "display_data"
        }
      ],
      "source": [
        "model = tf.keras.models.Sequential([\n",
        "    tf.keras.layers.Flatten(input_shape=(28, 28)),\n",
        "    tf.keras.layers.Dense(10)\n",
        "])\n",
        "\n",
        "model.compile(tf.keras.optimizers.Adam(0.001), tf.keras.losses.SparseCategoricalCrossentropy(from_logits=True), ['accuracy'])\n",
        "h = model.fit(mnist_train.batch(64), epochs = 10, validation_data = mnist_test.batch(64), verbose = 2)\n",
        "plot(model, h, mnist_test)"
      ]
    },
    {
      "cell_type": "markdown",
      "metadata": {
        "id": "0nOZJObD3HXy"
      },
      "source": [
        "### Многослойный персептрон"
      ]
    },
    {
      "cell_type": "markdown",
      "metadata": {
        "id": "DSYpB3hP3HXy"
      },
      "source": [
        "Двухслойный персептрон достигает точности 97-98%. Такого результата можно добиться несколькими способами"
      ]
    },
    {
      "cell_type": "code",
      "execution_count": null,
      "metadata": {
        "tags": [],
        "id": "FyYUb7z63HXz",
        "outputId": "42673a83-ac0f-4098-cd74-7c4f695cfc3c"
      },
      "outputs": [
        {
          "name": "stdout",
          "output_type": "stream",
          "text": [
            "Epoch 1/10\n",
            "469/469 - 2s - loss: 0.3101 - accuracy: 0.9079 - val_loss: 0.1589 - val_accuracy: 0.9496 - 2s/epoch - 4ms/step\n",
            "Epoch 2/10\n",
            "469/469 - 2s - loss: 0.1348 - accuracy: 0.9608 - val_loss: 0.1113 - val_accuracy: 0.9669 - 2s/epoch - 3ms/step\n",
            "Epoch 3/10\n",
            "469/469 - 2s - loss: 0.0961 - accuracy: 0.9713 - val_loss: 0.0954 - val_accuracy: 0.9718 - 2s/epoch - 3ms/step\n",
            "Epoch 4/10\n",
            "469/469 - 1s - loss: 0.0762 - accuracy: 0.9778 - val_loss: 0.0856 - val_accuracy: 0.9721 - 1s/epoch - 3ms/step\n",
            "Epoch 5/10\n",
            "469/469 - 1s - loss: 0.0616 - accuracy: 0.9816 - val_loss: 0.0846 - val_accuracy: 0.9728 - 1s/epoch - 3ms/step\n",
            "Epoch 6/10\n",
            "469/469 - 1s - loss: 0.0510 - accuracy: 0.9844 - val_loss: 0.0767 - val_accuracy: 0.9762 - 1s/epoch - 3ms/step\n",
            "Epoch 7/10\n",
            "469/469 - 2s - loss: 0.0427 - accuracy: 0.9872 - val_loss: 0.0726 - val_accuracy: 0.9773 - 2s/epoch - 3ms/step\n",
            "Epoch 8/10\n",
            "469/469 - 1s - loss: 0.0371 - accuracy: 0.9888 - val_loss: 0.0740 - val_accuracy: 0.9779 - 1s/epoch - 3ms/step\n",
            "Epoch 9/10\n",
            "469/469 - 2s - loss: 0.0312 - accuracy: 0.9911 - val_loss: 0.0734 - val_accuracy: 0.9791 - 2s/epoch - 3ms/step\n",
            "Epoch 10/10\n",
            "469/469 - 1s - loss: 0.0266 - accuracy: 0.9927 - val_loss: 0.0723 - val_accuracy: 0.9772 - 1s/epoch - 3ms/step\n"
          ]
        },
        {
          "data": {
            "image/png": "[encoded data removed]",
            "text/plain": [
              "<Figure size 1080x288 with 3 Axes>"
            ]
          },
          "metadata": {
            "needs_background": "light"
          },
          "output_type": "display_data"
        }
      ],
      "source": [
        "model = tf.keras.models.Sequential([\n",
        "    tf.keras.layers.Flatten(input_shape=(28, 28)),\n",
        "    tf.keras.layers.Dense(128, activation='relu'),\n",
        "    tf.keras.layers.Dense(10)\n",
        "])\n",
        "\n",
        "model.compile(tf.keras.optimizers.SGD(0.05, 0.9), tf.keras.losses.SparseCategoricalCrossentropy(from_logits=True), ['accuracy'])\n",
        "h = model.fit(mnist_train.batch(128), epochs = 10, validation_data = mnist_test.batch(128), verbose = 2)\n",
        "plot(model, h, mnist_test)"
      ]
    },
    {
      "cell_type": "code",
      "execution_count": null,
      "metadata": {
        "tags": [],
        "id": "r53l5HCl3HX0",
        "outputId": "ceb1ad9f-c212-49a3-affc-58942ee2fb97"
      },
      "outputs": [
        {
          "name": "stdout",
          "output_type": "stream",
          "text": [
            "Epoch 1/10\n",
            "469/469 - 2s - loss: 0.4560 - accuracy: 0.8791 - val_loss: 0.2446 - val_accuracy: 0.9301 - 2s/epoch - 4ms/step\n",
            "Epoch 2/10\n",
            "469/469 - 1s - loss: 0.2177 - accuracy: 0.9390 - val_loss: 0.1868 - val_accuracy: 0.9468 - 1s/epoch - 3ms/step\n",
            "Epoch 3/10\n",
            "469/469 - 2s - loss: 0.1675 - accuracy: 0.9527 - val_loss: 0.1514 - val_accuracy: 0.9568 - 2s/epoch - 3ms/step\n",
            "Epoch 4/10\n",
            "469/469 - 2s - loss: 0.1366 - accuracy: 0.9617 - val_loss: 0.1334 - val_accuracy: 0.9615 - 2s/epoch - 3ms/step\n",
            "Epoch 5/10\n",
            "469/469 - 1s - loss: 0.1148 - accuracy: 0.9681 - val_loss: 0.1175 - val_accuracy: 0.9648 - 1s/epoch - 3ms/step\n",
            "Epoch 6/10\n",
            "469/469 - 1s - loss: 0.0987 - accuracy: 0.9724 - val_loss: 0.1043 - val_accuracy: 0.9696 - 1s/epoch - 3ms/step\n",
            "Epoch 7/10\n",
            "469/469 - 2s - loss: 0.0851 - accuracy: 0.9766 - val_loss: 0.1000 - val_accuracy: 0.9703 - 2s/epoch - 3ms/step\n",
            "Epoch 8/10\n",
            "469/469 - 2s - loss: 0.0753 - accuracy: 0.9788 - val_loss: 0.0940 - val_accuracy: 0.9723 - 2s/epoch - 3ms/step\n",
            "Epoch 9/10\n",
            "469/469 - 1s - loss: 0.0659 - accuracy: 0.9815 - val_loss: 0.0862 - val_accuracy: 0.9737 - 1s/epoch - 3ms/step\n",
            "Epoch 10/10\n",
            "469/469 - 1s - loss: 0.0581 - accuracy: 0.9839 - val_loss: 0.0815 - val_accuracy: 0.9744 - 1s/epoch - 3ms/step\n"
          ]
        },
        {
          "data": {
            "image/png": "[encoded data removed]",
            "text/plain": [
              "<Figure size 1080x288 with 3 Axes>"
            ]
          },
          "metadata": {
            "needs_background": "light"
          },
          "output_type": "display_data"
        }
      ],
      "source": [
        "model = tf.keras.models.Sequential([\n",
        "    tf.keras.layers.Flatten(input_shape=(28, 28)),\n",
        "    tf.keras.layers.Dense(128, activation='relu'),\n",
        "    tf.keras.layers.Dense(10)\n",
        "])\n",
        "\n",
        "model.compile(tf.keras.optimizers.Adam(0.0005), tf.keras.losses.SparseCategoricalCrossentropy(from_logits=True), ['accuracy'])\n",
        "h = model.fit(mnist_train.batch(128), epochs = 10, validation_data = mnist_test.batch(128), verbose = 2)\n",
        "plot(model, h, mnist_test)"
      ]
    },
    {
      "cell_type": "code",
      "execution_count": null,
      "metadata": {
        "tags": [],
        "id": "s5aXwteo3HX1",
        "outputId": "8f94337a-0d1d-4754-d4dd-0fa6c8ef847f"
      },
      "outputs": [
        {
          "name": "stdout",
          "output_type": "stream",
          "text": [
            "Epoch 1/10\n",
            "469/469 - 2s - loss: 0.5258 - accuracy: 0.8749 - val_loss: 0.2775 - val_accuracy: 0.9238 - 2s/epoch - 5ms/step\n",
            "Epoch 2/10\n",
            "469/469 - 2s - loss: 0.2510 - accuracy: 0.9279 - val_loss: 0.2194 - val_accuracy: 0.9361 - 2s/epoch - 3ms/step\n",
            "Epoch 3/10\n",
            "469/469 - 2s - loss: 0.1995 - accuracy: 0.9428 - val_loss: 0.1849 - val_accuracy: 0.9448 - 2s/epoch - 3ms/step\n",
            "Epoch 4/10\n",
            "469/469 - 2s - loss: 0.1666 - accuracy: 0.9524 - val_loss: 0.1546 - val_accuracy: 0.9540 - 2s/epoch - 3ms/step\n",
            "Epoch 5/10\n",
            "469/469 - 2s - loss: 0.1427 - accuracy: 0.9589 - val_loss: 0.1404 - val_accuracy: 0.9580 - 2s/epoch - 3ms/step\n",
            "Epoch 6/10\n",
            "469/469 - 2s - loss: 0.1242 - accuracy: 0.9640 - val_loss: 0.1268 - val_accuracy: 0.9617 - 2s/epoch - 3ms/step\n",
            "Epoch 7/10\n",
            "469/469 - 2s - loss: 0.1099 - accuracy: 0.9686 - val_loss: 0.1169 - val_accuracy: 0.9647 - 2s/epoch - 3ms/step\n",
            "Epoch 8/10\n",
            "469/469 - 2s - loss: 0.0981 - accuracy: 0.9716 - val_loss: 0.1067 - val_accuracy: 0.9672 - 2s/epoch - 3ms/step\n",
            "Epoch 9/10\n",
            "469/469 - 2s - loss: 0.0882 - accuracy: 0.9751 - val_loss: 0.1004 - val_accuracy: 0.9702 - 2s/epoch - 3ms/step\n",
            "Epoch 10/10\n",
            "469/469 - 2s - loss: 0.0804 - accuracy: 0.9773 - val_loss: 0.0969 - val_accuracy: 0.9707 - 2s/epoch - 3ms/step\n"
          ]
        },
        {
          "data": {
            "image/png": "[encoded data removed]",
            "text/plain": [
              "<Figure size 1080x288 with 3 Axes>"
            ]
          },
          "metadata": {
            "needs_background": "light"
          },
          "output_type": "display_data"
        }
      ],
      "source": [
        "model = tf.keras.models.Sequential([\n",
        "    tf.keras.layers.Flatten(input_shape=(28, 28)),\n",
        "    tf.keras.layers.Dense(128, activation='sigmoid'),\n",
        "    tf.keras.layers.Dense(10)\n",
        "])\n",
        "\n",
        "model.compile('rmsprop', tf.keras.losses.SparseCategoricalCrossentropy(from_logits=True), ['accuracy'])\n",
        "h = model.fit(mnist_train.batch(128), epochs = 10, validation_data = mnist_test.batch(128), verbose = 2)\n",
        "plot(model, h, mnist_test)"
      ]
    },
    {
      "cell_type": "markdown",
      "metadata": {
        "id": "yvwKUKzt3HX2"
      },
      "source": [
        "Увеличение числа слоев не дает значительного прироста точности."
      ]
    },
    {
      "cell_type": "code",
      "execution_count": null,
      "metadata": {
        "tags": [],
        "id": "mUJtS4S23HX3",
        "outputId": "35afcc79-7573-474a-cc8b-495fa0bbd005"
      },
      "outputs": [
        {
          "name": "stdout",
          "output_type": "stream",
          "text": [
            "Epoch 1/10\n",
            "469/469 - 3s - loss: 0.2986 - accuracy: 0.9115 - val_loss: 0.1614 - val_accuracy: 0.9521 - 3s/epoch - 6ms/step\n",
            "Epoch 2/10\n",
            "469/469 - 2s - loss: 0.1393 - accuracy: 0.9574 - val_loss: 0.1087 - val_accuracy: 0.9655 - 2s/epoch - 5ms/step\n",
            "Epoch 3/10\n",
            "469/469 - 2s - loss: 0.0923 - accuracy: 0.9719 - val_loss: 0.0901 - val_accuracy: 0.9719 - 2s/epoch - 5ms/step\n",
            "Epoch 4/10\n",
            "469/469 - 2s - loss: 0.0698 - accuracy: 0.9778 - val_loss: 0.0885 - val_accuracy: 0.9736 - 2s/epoch - 5ms/step\n",
            "Epoch 5/10\n",
            "469/469 - 2s - loss: 0.0542 - accuracy: 0.9823 - val_loss: 0.0804 - val_accuracy: 0.9750 - 2s/epoch - 5ms/step\n",
            "Epoch 6/10\n",
            "469/469 - 2s - loss: 0.0425 - accuracy: 0.9868 - val_loss: 0.0696 - val_accuracy: 0.9773 - 2s/epoch - 5ms/step\n",
            "Epoch 7/10\n",
            "469/469 - 2s - loss: 0.0359 - accuracy: 0.9883 - val_loss: 0.0780 - val_accuracy: 0.9771 - 2s/epoch - 5ms/step\n",
            "Epoch 8/10\n",
            "469/469 - 2s - loss: 0.0278 - accuracy: 0.9908 - val_loss: 0.0712 - val_accuracy: 0.9787 - 2s/epoch - 5ms/step\n",
            "Epoch 9/10\n",
            "469/469 - 2s - loss: 0.0237 - accuracy: 0.9923 - val_loss: 0.0688 - val_accuracy: 0.9793 - 2s/epoch - 5ms/step\n",
            "Epoch 10/10\n",
            "469/469 - 2s - loss: 0.0188 - accuracy: 0.9936 - val_loss: 0.0732 - val_accuracy: 0.9786 - 2s/epoch - 5ms/step\n"
          ]
        },
        {
          "data": {
            "image/png": "[encoded data removed]",
            "text/plain": [
              "<Figure size 1080x288 with 3 Axes>"
            ]
          },
          "metadata": {
            "needs_background": "light"
          },
          "output_type": "display_data"
        }
      ],
      "source": [
        "model = tf.keras.models.Sequential([\n",
        "    tf.keras.layers.Flatten(input_shape=(28, 28)),\n",
        "    tf.keras.layers.Dense(256, activation='elu'),\n",
        "    tf.keras.layers.Dense(128, activation='elu'),\n",
        "    tf.keras.layers.Dense(10)\n",
        "])\n",
        "\n",
        "model.compile(tf.keras.optimizers.Adam(0.001), tf.keras.losses.SparseCategoricalCrossentropy(from_logits=True), ['accuracy'])\n",
        "h = model.fit(mnist_train.batch(128), epochs = 10, validation_data = mnist_test.batch(128), verbose = 2)\n",
        "plot(model, h, mnist_test)"
      ]
    },
    {
      "cell_type": "code",
      "execution_count": null,
      "metadata": {
        "tags": [],
        "id": "e7OEE74t3HX4",
        "outputId": "4c77e16e-8f5b-4f2e-8a65-f3b2fff9bc3e"
      },
      "outputs": [
        {
          "name": "stdout",
          "output_type": "stream",
          "text": [
            "Epoch 1/10\n",
            "469/469 - 3s - loss: 0.4240 - accuracy: 0.8833 - val_loss: 0.2318 - val_accuracy: 0.9320 - 3s/epoch - 6ms/step\n",
            "Epoch 2/10\n",
            "469/469 - 2s - loss: 0.2052 - accuracy: 0.9406 - val_loss: 0.1797 - val_accuracy: 0.9452 - 2s/epoch - 5ms/step\n",
            "Epoch 3/10\n",
            "469/469 - 2s - loss: 0.1542 - accuracy: 0.9564 - val_loss: 0.1465 - val_accuracy: 0.9562 - 2s/epoch - 5ms/step\n",
            "Epoch 4/10\n",
            "469/469 - 2s - loss: 0.1254 - accuracy: 0.9637 - val_loss: 0.1150 - val_accuracy: 0.9650 - 2s/epoch - 5ms/step\n",
            "Epoch 5/10\n",
            "469/469 - 2s - loss: 0.1047 - accuracy: 0.9702 - val_loss: 0.1073 - val_accuracy: 0.9658 - 2s/epoch - 5ms/step\n",
            "Epoch 6/10\n",
            "469/469 - 2s - loss: 0.0901 - accuracy: 0.9747 - val_loss: 0.0977 - val_accuracy: 0.9710 - 2s/epoch - 5ms/step\n",
            "Epoch 7/10\n",
            "469/469 - 2s - loss: 0.0783 - accuracy: 0.9778 - val_loss: 0.0936 - val_accuracy: 0.9703 - 2s/epoch - 4ms/step\n",
            "Epoch 8/10\n",
            "469/469 - 2s - loss: 0.0690 - accuracy: 0.9803 - val_loss: 0.0822 - val_accuracy: 0.9734 - 2s/epoch - 4ms/step\n",
            "Epoch 9/10\n",
            "469/469 - 2s - loss: 0.0613 - accuracy: 0.9829 - val_loss: 0.0814 - val_accuracy: 0.9756 - 2s/epoch - 5ms/step\n",
            "Epoch 10/10\n",
            "469/469 - 2s - loss: 0.0545 - accuracy: 0.9844 - val_loss: 0.0772 - val_accuracy: 0.9759 - 2s/epoch - 5ms/step\n"
          ]
        },
        {
          "data": {
            "image/png": "[encoded data removed]",
            "text/plain": [
              "<Figure size 1080x288 with 3 Axes>"
            ]
          },
          "metadata": {
            "needs_background": "light"
          },
          "output_type": "display_data"
        }
      ],
      "source": [
        "model = tf.keras.models.Sequential([\n",
        "    tf.keras.layers.Flatten(input_shape=(28, 28)),\n",
        "    tf.keras.layers.Dense(256, activation='relu'),\n",
        "    tf.keras.layers.Dense(128, activation='relu'),\n",
        "    tf.keras.layers.Dense(10)\n",
        "])\n",
        "\n",
        "model.compile(tf.keras.optimizers.Adagrad(0.03), tf.keras.losses.SparseCategoricalCrossentropy(from_logits=True), ['accuracy'])\n",
        "h = model.fit(mnist_train.batch(128), epochs = 10, validation_data = mnist_test.batch(128), verbose = 2)\n",
        "plot(model, h, mnist_test)"
      ]
    },
    {
      "cell_type": "markdown",
      "metadata": {
        "id": "We7bNw_c3HX5"
      },
      "source": [
        "## FashionMNIST"
      ]
    },
    {
      "cell_type": "code",
      "execution_count": null,
      "metadata": {
        "tags": [],
        "id": "n6fPViEF3HX5"
      },
      "outputs": [],
      "source": [
        "(fmnist_train, fmnist_test), fmnist_info = tfds.load(\n",
        "    'fashion_mnist',\n",
        "    split=['train', 'test'],\n",
        "    shuffle_files=True,\n",
        "    as_supervised=True,\n",
        "    with_info=True\n",
        ")"
      ]
    },
    {
      "cell_type": "code",
      "execution_count": null,
      "metadata": {
        "id": "311HPTQg3HX6"
      },
      "outputs": [],
      "source": [
        "fmnist_train = fmnist_train.map(\n",
        "    normalize_img, num_parallel_calls=tf.data.AUTOTUNE)\n",
        "fmnist_train = fmnist_train.cache()\n",
        "fmnist_train = fmnist_train.shuffle(fmnist_info.splits['train'].num_examples)\n",
        "\n",
        "fmnist_test = fmnist_test.map(\n",
        "    normalize_img, num_parallel_calls=tf.data.AUTOTUNE)"
      ]
    },
    {
      "cell_type": "markdown",
      "metadata": {
        "id": "VEtU7fLQ3HX7"
      },
      "source": [
        "Точность однослойной модели - 84%"
      ]
    },
    {
      "cell_type": "code",
      "execution_count": null,
      "metadata": {
        "tags": [],
        "id": "Y3i-QvgM3HX8",
        "outputId": "e62ec777-3ac3-4135-bf4f-383da46d355d"
      },
      "outputs": [
        {
          "name": "stdout",
          "output_type": "stream",
          "text": [
            "Epoch 1/10\n",
            "469/469 - 1s - loss: 0.7024 - accuracy: 0.7662 - val_loss: 0.5718 - val_accuracy: 0.8118 - 1s/epoch - 3ms/step\n",
            "Epoch 2/10\n",
            "469/469 - 1s - loss: 0.5182 - accuracy: 0.8281 - val_loss: 0.5243 - val_accuracy: 0.8235 - 1s/epoch - 2ms/step\n",
            "Epoch 3/10\n",
            "469/469 - 1s - loss: 0.4840 - accuracy: 0.8361 - val_loss: 0.5056 - val_accuracy: 0.8265 - 1s/epoch - 3ms/step\n",
            "Epoch 4/10\n",
            "469/469 - 1s - loss: 0.4658 - accuracy: 0.8432 - val_loss: 0.4875 - val_accuracy: 0.8326 - 1s/epoch - 3ms/step\n",
            "Epoch 5/10\n",
            "469/469 - 1s - loss: 0.4528 - accuracy: 0.8461 - val_loss: 0.4795 - val_accuracy: 0.8328 - 1s/epoch - 2ms/step\n",
            "Epoch 6/10\n",
            "469/469 - 1s - loss: 0.4454 - accuracy: 0.8481 - val_loss: 0.4719 - val_accuracy: 0.8378 - 1s/epoch - 2ms/step\n",
            "Epoch 7/10\n",
            "469/469 - 1s - loss: 0.4370 - accuracy: 0.8512 - val_loss: 0.4709 - val_accuracy: 0.8382 - 1s/epoch - 2ms/step\n",
            "Epoch 8/10\n",
            "469/469 - 1s - loss: 0.4328 - accuracy: 0.8524 - val_loss: 0.4640 - val_accuracy: 0.8379 - 1s/epoch - 3ms/step\n",
            "Epoch 9/10\n",
            "469/469 - 1s - loss: 0.4278 - accuracy: 0.8544 - val_loss: 0.4640 - val_accuracy: 0.8363 - 1s/epoch - 3ms/step\n",
            "Epoch 10/10\n",
            "469/469 - 1s - loss: 0.4236 - accuracy: 0.8550 - val_loss: 0.4566 - val_accuracy: 0.8408 - 1s/epoch - 3ms/step\n"
          ]
        },
        {
          "data": {
            "image/png": "[encoded data removed]",
            "text/plain": [
              "<Figure size 1080x288 with 3 Axes>"
            ]
          },
          "metadata": {
            "needs_background": "light"
          },
          "output_type": "display_data"
        }
      ],
      "source": [
        "model = tf.keras.models.Sequential([\n",
        "    tf.keras.layers.Flatten(input_shape=(28, 28)),\n",
        "    tf.keras.layers.Dense(10)\n",
        "])\n",
        "\n",
        "model.compile(tf.keras.optimizers.SGD(0.01, 0.9), tf.keras.losses.SparseCategoricalCrossentropy(from_logits=True), ['accuracy'])\n",
        "h = model.fit(fmnist_train.batch(128), epochs = 10, validation_data = fmnist_test.batch(128), verbose = 2)\n",
        "plot(model, h, fmnist_test)"
      ]
    },
    {
      "cell_type": "code",
      "execution_count": null,
      "metadata": {
        "tags": [],
        "id": "D-JfdPtt3HX9",
        "outputId": "ada40329-747e-4f87-d2b5-297312dcf666"
      },
      "outputs": [
        {
          "name": "stdout",
          "output_type": "stream",
          "text": [
            "Epoch 1/10\n",
            "469/469 - 1s - loss: 0.7325 - accuracy: 0.7611 - val_loss: 0.5724 - val_accuracy: 0.8021 - 1s/epoch - 3ms/step\n",
            "Epoch 2/10\n",
            "469/469 - 1s - loss: 0.5119 - accuracy: 0.8280 - val_loss: 0.5201 - val_accuracy: 0.8199 - 1s/epoch - 2ms/step\n",
            "Epoch 3/10\n",
            "469/469 - 1s - loss: 0.4728 - accuracy: 0.8407 - val_loss: 0.4948 - val_accuracy: 0.8294 - 1s/epoch - 2ms/step\n",
            "Epoch 4/10\n",
            "469/469 - 1s - loss: 0.4509 - accuracy: 0.8481 - val_loss: 0.4774 - val_accuracy: 0.8349 - 1s/epoch - 2ms/step\n",
            "Epoch 5/10\n",
            "469/469 - 1s - loss: 0.4372 - accuracy: 0.8517 - val_loss: 0.4667 - val_accuracy: 0.8387 - 1s/epoch - 3ms/step\n",
            "Epoch 6/10\n",
            "469/469 - 1s - loss: 0.4287 - accuracy: 0.8540 - val_loss: 0.4689 - val_accuracy: 0.8376 - 1s/epoch - 3ms/step\n",
            "Epoch 7/10\n",
            "469/469 - 1s - loss: 0.4197 - accuracy: 0.8570 - val_loss: 0.4568 - val_accuracy: 0.8415 - 1s/epoch - 2ms/step\n",
            "Epoch 8/10\n",
            "469/469 - 1s - loss: 0.4142 - accuracy: 0.8572 - val_loss: 0.4522 - val_accuracy: 0.8423 - 1s/epoch - 2ms/step\n",
            "Epoch 9/10\n",
            "469/469 - 1s - loss: 0.4093 - accuracy: 0.8596 - val_loss: 0.4524 - val_accuracy: 0.8410 - 1s/epoch - 3ms/step\n",
            "Epoch 10/10\n",
            "469/469 - 1s - loss: 0.4045 - accuracy: 0.8611 - val_loss: 0.4492 - val_accuracy: 0.8439 - 1s/epoch - 2ms/step\n"
          ]
        },
        {
          "data": {
            "image/png": "[encoded data removed]",
            "text/plain": [
              "<Figure size 1080x288 with 3 Axes>"
            ]
          },
          "metadata": {
            "needs_background": "light"
          },
          "output_type": "display_data"
        }
      ],
      "source": [
        "model = tf.keras.models.Sequential([\n",
        "    tf.keras.layers.Flatten(input_shape=(28, 28)),\n",
        "    tf.keras.layers.Dense(10)\n",
        "])\n",
        "\n",
        "model.compile('adam', tf.keras.losses.SparseCategoricalCrossentropy(from_logits=True), ['accuracy'])\n",
        "h = model.fit(fmnist_train.batch(128), epochs = 10, validation_data = fmnist_test.batch(128), verbose = 2)\n",
        "plot(model, h, fmnist_test)"
      ]
    },
    {
      "cell_type": "markdown",
      "metadata": {
        "id": "dis8L2eZ3HX-"
      },
      "source": [
        "Многослойной - 88%"
      ]
    },
    {
      "cell_type": "code",
      "execution_count": null,
      "metadata": {
        "tags": [],
        "id": "c3HDR1YK3HX-",
        "outputId": "fbe9b517-2912-4871-e358-2f6c16c31fae"
      },
      "outputs": [
        {
          "name": "stdout",
          "output_type": "stream",
          "text": [
            "Epoch 1/10\n",
            "235/235 - 3s - loss: 0.6001 - accuracy: 0.7987 - val_loss: 0.4792 - val_accuracy: 0.8304 - 3s/epoch - 11ms/step\n",
            "Epoch 2/10\n",
            "235/235 - 2s - loss: 0.4226 - accuracy: 0.8538 - val_loss: 0.4308 - val_accuracy: 0.8489 - 2s/epoch - 9ms/step\n",
            "Epoch 3/10\n",
            "235/235 - 2s - loss: 0.3828 - accuracy: 0.8657 - val_loss: 0.4094 - val_accuracy: 0.8557 - 2s/epoch - 9ms/step\n",
            "Epoch 4/10\n",
            "235/235 - 2s - loss: 0.3563 - accuracy: 0.8750 - val_loss: 0.4108 - val_accuracy: 0.8547 - 2s/epoch - 9ms/step\n",
            "Epoch 5/10\n",
            "235/235 - 2s - loss: 0.3358 - accuracy: 0.8821 - val_loss: 0.3869 - val_accuracy: 0.8614 - 2s/epoch - 9ms/step\n",
            "Epoch 6/10\n",
            "235/235 - 2s - loss: 0.3215 - accuracy: 0.8854 - val_loss: 0.3593 - val_accuracy: 0.8733 - 2s/epoch - 9ms/step\n",
            "Epoch 7/10\n",
            "235/235 - 2s - loss: 0.3075 - accuracy: 0.8899 - val_loss: 0.3490 - val_accuracy: 0.8750 - 2s/epoch - 9ms/step\n",
            "Epoch 8/10\n",
            "235/235 - 2s - loss: 0.2935 - accuracy: 0.8940 - val_loss: 0.3449 - val_accuracy: 0.8768 - 2s/epoch - 9ms/step\n",
            "Epoch 9/10\n",
            "235/235 - 2s - loss: 0.2825 - accuracy: 0.8996 - val_loss: 0.3531 - val_accuracy: 0.8734 - 2s/epoch - 9ms/step\n",
            "Epoch 10/10\n",
            "235/235 - 2s - loss: 0.2735 - accuracy: 0.9026 - val_loss: 0.3339 - val_accuracy: 0.8804 - 2s/epoch - 9ms/step\n"
          ]
        },
        {
          "data": {
            "image/png": "[encoded data removed]",
            "text/plain": [
              "<Figure size 1080x288 with 3 Axes>"
            ]
          },
          "metadata": {
            "needs_background": "light"
          },
          "output_type": "display_data"
        }
      ],
      "source": [
        "model = tf.keras.models.Sequential([\n",
        "    tf.keras.layers.Flatten(input_shape=(28, 28)),\n",
        "    tf.keras.layers.Dense(400, activation='relu'),\n",
        "    tf.keras.layers.Dense(10)\n",
        "])\n",
        "\n",
        "model.compile(tf.keras.optimizers.Adam(0.0005), tf.keras.losses.SparseCategoricalCrossentropy(from_logits=True), ['accuracy'])\n",
        "h = model.fit(fmnist_train.batch(256), epochs = 10, validation_data = fmnist_test.batch(256), verbose = 2)\n",
        "plot(model, h, fmnist_test)"
      ]
    },
    {
      "cell_type": "code",
      "execution_count": null,
      "metadata": {
        "tags": [],
        "id": "b8l_Kdhk3HX_",
        "outputId": "701f5845-0139-4c18-a0ba-c829a212c983"
      },
      "outputs": [
        {
          "name": "stdout",
          "output_type": "stream",
          "text": [
            "Epoch 1/10\n",
            "235/235 - 3s - loss: 0.6845 - accuracy: 0.7784 - val_loss: 0.4944 - val_accuracy: 0.8287 - 3s/epoch - 13ms/step\n",
            "Epoch 2/10\n",
            "235/235 - 3s - loss: 0.4290 - accuracy: 0.8512 - val_loss: 0.4377 - val_accuracy: 0.8425 - 3s/epoch - 11ms/step\n",
            "Epoch 3/10\n",
            "235/235 - 2s - loss: 0.3864 - accuracy: 0.8650 - val_loss: 0.4214 - val_accuracy: 0.8484 - 2s/epoch - 10ms/step\n",
            "Epoch 4/10\n",
            "235/235 - 2s - loss: 0.3598 - accuracy: 0.8725 - val_loss: 0.3961 - val_accuracy: 0.8588 - 2s/epoch - 11ms/step\n",
            "Epoch 5/10\n",
            "235/235 - 2s - loss: 0.3378 - accuracy: 0.8802 - val_loss: 0.3668 - val_accuracy: 0.8692 - 2s/epoch - 11ms/step\n",
            "Epoch 6/10\n",
            "235/235 - 2s - loss: 0.3218 - accuracy: 0.8858 - val_loss: 0.3581 - val_accuracy: 0.8703 - 2s/epoch - 11ms/step\n",
            "Epoch 7/10\n",
            "235/235 - 3s - loss: 0.3060 - accuracy: 0.8901 - val_loss: 0.3546 - val_accuracy: 0.8745 - 3s/epoch - 11ms/step\n",
            "Epoch 8/10\n",
            "235/235 - 2s - loss: 0.2992 - accuracy: 0.8926 - val_loss: 0.3476 - val_accuracy: 0.8749 - 2s/epoch - 11ms/step\n",
            "Epoch 9/10\n",
            "235/235 - 2s - loss: 0.2855 - accuracy: 0.8979 - val_loss: 0.3463 - val_accuracy: 0.8717 - 2s/epoch - 11ms/step\n",
            "Epoch 10/10\n",
            "235/235 - 2s - loss: 0.2764 - accuracy: 0.8999 - val_loss: 0.3341 - val_accuracy: 0.8815 - 2s/epoch - 11ms/step\n"
          ]
        },
        {
          "data": {
            "image/png": "[encoded data removed]",
            "text/plain": [
              "<Figure size 1080x288 with 3 Axes>"
            ]
          },
          "metadata": {
            "needs_background": "light"
          },
          "output_type": "display_data"
        }
      ],
      "source": [
        "model = tf.keras.models.Sequential([\n",
        "    tf.keras.layers.Flatten(input_shape=(28, 28)),\n",
        "    tf.keras.layers.Dense(512, activation='relu'),\n",
        "    tf.keras.layers.Dense(128, activation='relu'),\n",
        "    tf.keras.layers.Dense(10)\n",
        "])\n",
        "\n",
        "model.compile(tf.keras.optimizers.Adam(0.0002), tf.keras.losses.SparseCategoricalCrossentropy(from_logits=True), ['accuracy'])\n",
        "h = model.fit(fmnist_train.batch(256), epochs = 10, validation_data = fmnist_test.batch(256), verbose = 2)\n",
        "plot(model, h, fmnist_test)"
      ]
    },
    {
      "cell_type": "markdown",
      "metadata": {
        "id": "MZKQHan73HX_"
      },
      "source": [
        "## CIFAR-10"
      ]
    },
    {
      "cell_type": "code",
      "execution_count": 3,
      "metadata": {
        "tags": [],
        "colab": {
          "base_uri": "https://localhost:8080/",
          "height": 267,
          "referenced_widgets": [
            "0cb93c4ea455456cbb04f0d9fe6562d7",
            "deeb6bbe5c9544bf9b851d545961bc97",
            "01d403b6f95349bcb40f8f1517493e09",
            "85ead653b3b845dbb6478af13c716210",
            "65ed14fcdd0748fea5116a95bf8d759d",
            "896963b732344418a20f658666259bc3",
            "dd7e29509f9d43618242ac89026f1256",
            "b59b7b70bbce47c2ac0a79dbf60b7bf5",
            "ab2312d213fe496fbd1a635cff584e70",
            "85e275118bc2446bb5cd8559be72eff6",
            "fa647c2d46df4230b8746c6df75387a1",
            "e1dbbd1f6f1d49baace3a264b5b12d44",
            "a34acb766098405e8cd8972bfc10442c",
            "8fe866aca7744edc8cb6ce6bc45cd5ed",
            "245196ce8ca9447bb0768228a3db71f5",
            "1b17731fcaa3480a81963ab7bb2288ce",
            "2f045bd705734f2096aab4dd4040d6e5",
            "153a3200879e4ebf827a3e09d84ab963",
            "42c4cfca3a9e455faaf422a4a60fc52d",
            "455e5f2687214856b9786ae9043528c1",
            "4c853fa75e4a4c6792ea6d5fef147ef8",
            "512bff662bab42b0b8636fa7daa4c706",
            "d4e10c72224443ee9ae9b7809da53eb9",
            "33a37b02e3cd4dbbb18014de6f5a388c",
            "e47e6c22aee44f28abfd4486a17f61e8",
            "6a6fc6942ff440749e0389ab1b0f71b7",
            "02c085e2a3a94728924a73a22c3fd4ce",
            "6a34c6dfadbd46dab542038755d0be80",
            "eded183fbab0434492f36ce0dc362c9f",
            "1a6f0cf38136464d860d161d7260b8be",
            "7d656b9b56234d148cb892a635f0f0a6",
            "fc270dd903a34c6483ccb92e26169b42",
            "c47bc4b081304157b0edfae5afef0f4f",
            "8b8efbf6434643fbb1ce911e4c77becf",
            "6cbffa9a0d2b46ae99e1593bd99e24e9",
            "73fdd17ee603488e8b864e3ae3df6df1",
            "a1812798cd8245cca6cda887d8e95992",
            "92fa9c797cb4401985d1cdc3982fd539",
            "28b00d71b9fe4f41b7cb4661a17ca78d",
            "389db62593054ece80f28a864f95019b",
            "1f78e91ff3b947c99663a1616b2b6c23",
            "9aeebad849a84a56af5e068c2535c206",
            "6c988017b62448bb9bf671d084e0068c",
            "b779ed175d754430bf02cb267c34d9fd",
            "6fca6786abab49e487dd6113da438585",
            "5dab2e8cdd7a4913ad0257bbac8ba288",
            "a8157cedc64342e7be6157e55ed5817c",
            "383f8c42a3984d64ae8dfe30d0e7bfb7",
            "c9b855fe9dd141978ceddec58b3d118a",
            "fc8d0dd3798a4ee094517f99fa59cb5c",
            "480a565274d4446f8e7a5f64396345cb",
            "1f7984d9b93d432b8ba534ee69af7ab8",
            "2af25874ec7f452eb3488272c09eb9e5",
            "e0f6cdea9a48485a825a01b7eef985d1",
            "29e5b388fdb141418a3a3a379e97c3ad",
            "9d590349db1246c18941af3bd628e75e",
            "42d6a0a0f3fd4213b8ea5b1e39e06ef2",
            "1c8b8d22b1a2490e9421a20827d2d7ec",
            "45d1ed3a7dbe4ecca7e924d2ecc512bf",
            "4d822bdff944418eab03117e85f54af1",
            "0b99408a833b458a8dd562d4647f09a1",
            "949db1444e8f4833b4f9c7a2e0e1ee45",
            "cd9b7b56a7d4431cbaf9e1661a496cc7",
            "f66b873ca73e40df8b24d3f84f979117",
            "5c4781a21bfa4fc4a800d6ee31179091",
            "95a87cf1ee9f4964a2c2257348b68196",
            "6464fc44a537453d96fac515e648ae39"
          ]
        },
        "id": "YiVyUjWK3HYA",
        "outputId": "b2db1f02-195f-4698-b6b8-d0cb0beb25f2"
      },
      "outputs": [
        {
          "output_type": "display_data",
          "data": {
            "text/plain": [
              "Dl Completed...: 0 url [00:00, ? url/s]"
            ],
            "application/vnd.jupyter.widget-view+json": {
              "version_major": 2,
              "version_minor": 0,
              "model_id": "0cb93c4ea455456cbb04f0d9fe6562d7"
            }
          },
          "metadata": {}
        },
        {
          "output_type": "display_data",
          "data": {
            "text/plain": [
              "Dl Size...: 0 MiB [00:00, ? MiB/s]"
            ],
            "application/vnd.jupyter.widget-view+json": {
              "version_major": 2,
              "version_minor": 0,
              "model_id": "deeb6bbe5c9544bf9b851d545961bc97"
            }
          },
          "metadata": {}
        },
        {
          "output_type": "display_data",
          "data": {
            "text/plain": [
              "Extraction completed...: 0 file [00:00, ? file/s]"
            ],
            "application/vnd.jupyter.widget-view+json": {
              "version_major": 2,
              "version_minor": 0,
              "model_id": "a34acb766098405e8cd8972bfc10442c"
            }
          },
          "metadata": {}
        },
        {
          "output_type": "stream",
          "name": "stdout",
          "text": [
            "\n",
            "\n",
            "\n"
          ]
        },
        {
          "output_type": "display_data",
          "data": {
            "text/plain": [
              "0 examples [00:00, ? examples/s]"
            ],
            "application/vnd.jupyter.widget-view+json": {
              "version_major": 2,
              "version_minor": 0,
              "model_id": "33a37b02e3cd4dbbb18014de6f5a388c"
            }
          },
          "metadata": {}
        },
        {
          "output_type": "stream",
          "name": "stdout",
          "text": [
            "Shuffling and writing examples to /root/tensorflow_datasets/cifar10/3.0.2.incompleteXV9IQV/cifar10-train.tfrecord\n"
          ]
        },
        {
          "output_type": "display_data",
          "data": {
            "text/plain": [
              "  0%|          | 0/50000 [00:00<?, ? examples/s]"
            ],
            "application/vnd.jupyter.widget-view+json": {
              "version_major": 2,
              "version_minor": 0,
              "model_id": "6cbffa9a0d2b46ae99e1593bd99e24e9"
            }
          },
          "metadata": {}
        },
        {
          "output_type": "display_data",
          "data": {
            "text/plain": [
              "0 examples [00:00, ? examples/s]"
            ],
            "application/vnd.jupyter.widget-view+json": {
              "version_major": 2,
              "version_minor": 0,
              "model_id": "5dab2e8cdd7a4913ad0257bbac8ba288"
            }
          },
          "metadata": {}
        },
        {
          "output_type": "stream",
          "name": "stdout",
          "text": [
            "Shuffling and writing examples to /root/tensorflow_datasets/cifar10/3.0.2.incompleteXV9IQV/cifar10-test.tfrecord\n"
          ]
        },
        {
          "output_type": "display_data",
          "data": {
            "text/plain": [
              "  0%|          | 0/10000 [00:00<?, ? examples/s]"
            ],
            "application/vnd.jupyter.widget-view+json": {
              "version_major": 2,
              "version_minor": 0,
              "model_id": "42d6a0a0f3fd4213b8ea5b1e39e06ef2"
            }
          },
          "metadata": {}
        },
        {
          "output_type": "stream",
          "name": "stdout",
          "text": [
            "\u001b[1mDataset cifar10 downloaded and prepared to /root/tensorflow_datasets/cifar10/3.0.2. Subsequent calls will reuse this data.\u001b[0m\n"
          ]
        }
      ],
      "source": [
        "(cifar_train, cifar_test), cifar_info = tfds.load(\n",
        "    'cifar10',\n",
        "    split=['train', 'test'],\n",
        "    shuffle_files=True,\n",
        "    as_supervised=True,\n",
        "    with_info=True\n",
        ")"
      ]
    },
    {
      "cell_type": "code",
      "execution_count": 4,
      "metadata": {
        "tags": [],
        "id": "ZjLTMyfW3HYA"
      },
      "outputs": [],
      "source": [
        "cifar_train = cifar_train.map(\n",
        "    normalize_img, num_parallel_calls=tf.data.AUTOTUNE)\n",
        "cifar_train = cifar_train.cache()\n",
        "cifar_train = cifar_train.shuffle(cifar_info.splits['train'].num_examples)\n",
        "\n",
        "cifar_test = cifar_test.map(\n",
        "    normalize_img, num_parallel_calls=tf.data.AUTOTUNE)"
      ]
    },
    {
      "cell_type": "markdown",
      "metadata": {
        "id": "AraYdjJF3HYB"
      },
      "source": [
        "CIFAR-10 сложнее для распознавания линейными слоями"
      ]
    },
    {
      "cell_type": "code",
      "execution_count": 5,
      "metadata": {
        "colab": {
          "base_uri": "https://localhost:8080/",
          "height": 612
        },
        "id": "KL6Io1gP3HYC",
        "outputId": "2e604ddb-cc85-4a0a-9279-2e51a6980291"
      },
      "outputs": [
        {
          "output_type": "stream",
          "name": "stdout",
          "text": [
            "Epoch 1/10\n",
            "391/391 - 19s - loss: 1.8883 - accuracy: 0.3336 - val_loss: 1.7473 - val_accuracy: 0.3843 - 19s/epoch - 50ms/step\n",
            "Epoch 2/10\n",
            "391/391 - 5s - loss: 1.7071 - accuracy: 0.3987 - val_loss: 1.6699 - val_accuracy: 0.4158 - 5s/epoch - 13ms/step\n",
            "Epoch 3/10\n",
            "391/391 - 5s - loss: 1.6346 - accuracy: 0.4235 - val_loss: 1.6107 - val_accuracy: 0.4382 - 5s/epoch - 13ms/step\n",
            "Epoch 4/10\n",
            "391/391 - 5s - loss: 1.5746 - accuracy: 0.4450 - val_loss: 1.5600 - val_accuracy: 0.4469 - 5s/epoch - 13ms/step\n",
            "Epoch 5/10\n",
            "391/391 - 5s - loss: 1.5412 - accuracy: 0.4585 - val_loss: 1.5658 - val_accuracy: 0.4480 - 5s/epoch - 13ms/step\n",
            "Epoch 6/10\n",
            "391/391 - 5s - loss: 1.5091 - accuracy: 0.4673 - val_loss: 1.5263 - val_accuracy: 0.4628 - 5s/epoch - 13ms/step\n",
            "Epoch 7/10\n",
            "391/391 - 5s - loss: 1.4764 - accuracy: 0.4791 - val_loss: 1.5178 - val_accuracy: 0.4648 - 5s/epoch - 13ms/step\n",
            "Epoch 8/10\n",
            "391/391 - 5s - loss: 1.4574 - accuracy: 0.4864 - val_loss: 1.5193 - val_accuracy: 0.4603 - 5s/epoch - 13ms/step\n",
            "Epoch 9/10\n",
            "391/391 - 5s - loss: 1.4348 - accuracy: 0.4937 - val_loss: 1.4732 - val_accuracy: 0.4826 - 5s/epoch - 13ms/step\n",
            "Epoch 10/10\n",
            "391/391 - 5s - loss: 1.4147 - accuracy: 0.5026 - val_loss: 1.5162 - val_accuracy: 0.4641 - 5s/epoch - 13ms/step\n"
          ]
        },
        {
          "output_type": "display_data",
          "data": {
            "text/plain": [
              "<Figure size 1080x288 with 3 Axes>"
            ],
            "image/png": "[encoded data removed]"
          },
          "metadata": {
            "needs_background": "light"
          }
        }
      ],
      "source": [
        "model = tf.keras.models.Sequential([\n",
        "    tf.keras.layers.Flatten(input_shape=(32, 32, 3)),\n",
        "    tf.keras.layers.Dense(256, activation='sigmoid'),\n",
        "    tf.keras.layers.Dense(10)\n",
        "])\n",
        "\n",
        "model.compile('adam', tf.keras.losses.SparseCategoricalCrossentropy(from_logits=True), ['accuracy'])\n",
        "h = model.fit(cifar_train.batch(128), epochs = 10, validation_data = cifar_test.batch(128), verbose = 2)\n",
        "plot(model, h, cifar_test)"
      ]
    },
    {
      "cell_type": "markdown",
      "metadata": {
        "id": "3B4xtanA3HYC"
      },
      "source": [
        "Несколько помогает увеличение размеров слоев и их количества. Наилучший реультат - 50%"
      ]
    },
    {
      "cell_type": "code",
      "execution_count": 6,
      "metadata": {
        "colab": {
          "base_uri": "https://localhost:8080/",
          "height": 615
        },
        "id": "GB1L-pYH3_zr",
        "outputId": "38cc41cb-ddc9-458b-d907-9c536871d01a"
      },
      "outputs": [
        {
          "output_type": "stream",
          "name": "stdout",
          "text": [
            "Epoch 1/10\n",
            "391/391 - 17s - loss: 2.0337 - accuracy: 0.3145 - val_loss: 1.7781 - val_accuracy: 0.3710 - 17s/epoch - 42ms/step\n",
            "Epoch 2/10\n",
            "391/391 - 16s - loss: 1.7182 - accuracy: 0.3902 - val_loss: 1.6739 - val_accuracy: 0.4051 - 16s/epoch - 41ms/step\n",
            "Epoch 3/10\n",
            "391/391 - 16s - loss: 1.6330 - accuracy: 0.4229 - val_loss: 1.6874 - val_accuracy: 0.4002 - 16s/epoch - 41ms/step\n",
            "Epoch 4/10\n",
            "391/391 - 16s - loss: 1.5918 - accuracy: 0.4345 - val_loss: 1.6555 - val_accuracy: 0.4098 - 16s/epoch - 41ms/step\n",
            "Epoch 5/10\n",
            "391/391 - 16s - loss: 1.5531 - accuracy: 0.4499 - val_loss: 1.5971 - val_accuracy: 0.4312 - 16s/epoch - 40ms/step\n",
            "Epoch 6/10\n",
            "391/391 - 16s - loss: 1.5122 - accuracy: 0.4653 - val_loss: 1.5510 - val_accuracy: 0.4502 - 16s/epoch - 40ms/step\n",
            "Epoch 7/10\n",
            "391/391 - 16s - loss: 1.4854 - accuracy: 0.4749 - val_loss: 1.5121 - val_accuracy: 0.4597 - 16s/epoch - 41ms/step\n",
            "Epoch 8/10\n",
            "391/391 - 16s - loss: 1.4660 - accuracy: 0.4809 - val_loss: 1.5086 - val_accuracy: 0.4707 - 16s/epoch - 41ms/step\n",
            "Epoch 9/10\n",
            "391/391 - 16s - loss: 1.4384 - accuracy: 0.4902 - val_loss: 1.4759 - val_accuracy: 0.4746 - 16s/epoch - 41ms/step\n",
            "Epoch 10/10\n",
            "391/391 - 16s - loss: 1.4295 - accuracy: 0.4920 - val_loss: 1.4844 - val_accuracy: 0.4730 - 16s/epoch - 42ms/step\n"
          ]
        },
        {
          "output_type": "display_data",
          "data": {
            "text/plain": [
              "<Figure size 1080x288 with 3 Axes>"
            ],
            "image/png": "[encoded data removed]"
          },
          "metadata": {
            "needs_background": "light"
          }
        }
      ],
      "source": [
        "model = tf.keras.models.Sequential([\n",
        "    tf.keras.layers.Flatten(input_shape=(32, 32, 3)),\n",
        "    tf.keras.layers.Dense(1000, activation='relu'),\n",
        "    tf.keras.layers.Dense(10)\n",
        "])\n",
        "\n",
        "model.compile('adam', tf.keras.losses.SparseCategoricalCrossentropy(from_logits=True), ['accuracy'])\n",
        "h = model.fit(cifar_train.batch(128), epochs = 10, validation_data = cifar_test.batch(128), verbose = 2)\n",
        "plot(model, h, cifar_test)"
      ]
    },
    {
      "cell_type": "code",
      "execution_count": 7,
      "metadata": {
        "colab": {
          "base_uri": "https://localhost:8080/",
          "height": 612
        },
        "id": "s8FrtX5f3HYD",
        "outputId": "e62e3afb-47be-44b1-e277-97baf61edce0"
      },
      "outputs": [
        {
          "output_type": "stream",
          "name": "stdout",
          "text": [
            "Epoch 1/10\n",
            "391/391 - 21s - loss: 1.9506 - accuracy: 0.3147 - val_loss: 1.7119 - val_accuracy: 0.3887 - 21s/epoch - 53ms/step\n",
            "Epoch 2/10\n",
            "391/391 - 20s - loss: 1.6704 - accuracy: 0.4017 - val_loss: 1.6404 - val_accuracy: 0.4128 - 20s/epoch - 51ms/step\n",
            "Epoch 3/10\n",
            "391/391 - 20s - loss: 1.5969 - accuracy: 0.4298 - val_loss: 1.6080 - val_accuracy: 0.4338 - 20s/epoch - 51ms/step\n",
            "Epoch 4/10\n",
            "391/391 - 20s - loss: 1.5296 - accuracy: 0.4557 - val_loss: 1.5421 - val_accuracy: 0.4562 - 20s/epoch - 51ms/step\n",
            "Epoch 5/10\n",
            "391/391 - 20s - loss: 1.4795 - accuracy: 0.4728 - val_loss: 1.4821 - val_accuracy: 0.4684 - 20s/epoch - 51ms/step\n",
            "Epoch 6/10\n",
            "391/391 - 20s - loss: 1.4408 - accuracy: 0.4853 - val_loss: 1.4823 - val_accuracy: 0.4673 - 20s/epoch - 52ms/step\n",
            "Epoch 7/10\n",
            "391/391 - 20s - loss: 1.4139 - accuracy: 0.4970 - val_loss: 1.4461 - val_accuracy: 0.4874 - 20s/epoch - 51ms/step\n",
            "Epoch 8/10\n",
            "391/391 - 20s - loss: 1.3755 - accuracy: 0.5106 - val_loss: 1.4293 - val_accuracy: 0.4884 - 20s/epoch - 51ms/step\n",
            "Epoch 9/10\n",
            "391/391 - 20s - loss: 1.3499 - accuracy: 0.5202 - val_loss: 1.4654 - val_accuracy: 0.4783 - 20s/epoch - 51ms/step\n",
            "Epoch 10/10\n",
            "391/391 - 20s - loss: 1.3316 - accuracy: 0.5269 - val_loss: 1.3963 - val_accuracy: 0.5034 - 20s/epoch - 51ms/step\n"
          ]
        },
        {
          "output_type": "display_data",
          "data": {
            "text/plain": [
              "<Figure size 1080x288 with 3 Axes>"
            ],
            "image/png": "[encoded data removed]"
          },
          "metadata": {
            "needs_background": "light"
          }
        }
      ],
      "source": [
        "model = tf.keras.models.Sequential([\n",
        "    tf.keras.layers.Flatten(input_shape=(32, 32, 3)),\n",
        "    tf.keras.layers.Dense(1000, activation='relu'),\n",
        "    tf.keras.layers.Dense(512, activation='relu'),\n",
        "    tf.keras.layers.Dense(10)\n",
        "])\n",
        "\n",
        "model.compile('adam', tf.keras.losses.SparseCategoricalCrossentropy(from_logits=True), ['accuracy'])\n",
        "h = model.fit(cifar_train.batch(128), epochs = 10, validation_data = cifar_test.batch(128), verbose = 2)\n",
        "plot(model, h, cifar_test)"
      ]
    },
    {
      "cell_type": "code",
      "execution_count": 8,
      "metadata": {
        "colab": {
          "base_uri": "https://localhost:8080/",
          "height": 614
        },
        "id": "Rsm1ryVM3HYE",
        "outputId": "9da16545-b498-4f7e-9956-6b236dc792cd"
      },
      "outputs": [
        {
          "output_type": "stream",
          "name": "stdout",
          "text": [
            "Epoch 1/10\n",
            "391/391 - 21s - loss: 1.9047 - accuracy: 0.3146 - val_loss: 1.7403 - val_accuracy: 0.3799 - 21s/epoch - 55ms/step\n",
            "Epoch 2/10\n",
            "391/391 - 21s - loss: 1.6880 - accuracy: 0.3931 - val_loss: 1.6039 - val_accuracy: 0.4299 - 21s/epoch - 54ms/step\n",
            "Epoch 3/10\n",
            "391/391 - 21s - loss: 1.5876 - accuracy: 0.4307 - val_loss: 1.5900 - val_accuracy: 0.4238 - 21s/epoch - 54ms/step\n",
            "Epoch 4/10\n",
            "391/391 - 21s - loss: 1.5194 - accuracy: 0.4576 - val_loss: 1.4999 - val_accuracy: 0.4692 - 21s/epoch - 54ms/step\n",
            "Epoch 5/10\n",
            "391/391 - 21s - loss: 1.4770 - accuracy: 0.4728 - val_loss: 1.4742 - val_accuracy: 0.4736 - 21s/epoch - 55ms/step\n",
            "Epoch 6/10\n",
            "391/391 - 22s - loss: 1.4355 - accuracy: 0.4896 - val_loss: 1.4709 - val_accuracy: 0.4758 - 22s/epoch - 55ms/step\n",
            "Epoch 7/10\n",
            "391/391 - 21s - loss: 1.3983 - accuracy: 0.5009 - val_loss: 1.4586 - val_accuracy: 0.4829 - 21s/epoch - 54ms/step\n",
            "Epoch 8/10\n",
            "391/391 - 21s - loss: 1.3626 - accuracy: 0.5120 - val_loss: 1.4348 - val_accuracy: 0.4926 - 21s/epoch - 54ms/step\n",
            "Epoch 9/10\n",
            "391/391 - 21s - loss: 1.3363 - accuracy: 0.5200 - val_loss: 1.4867 - val_accuracy: 0.4792 - 21s/epoch - 54ms/step\n",
            "Epoch 10/10\n",
            "391/391 - 21s - loss: 1.3057 - accuracy: 0.5363 - val_loss: 1.3851 - val_accuracy: 0.5102 - 21s/epoch - 54ms/step\n"
          ]
        },
        {
          "output_type": "display_data",
          "data": {
            "text/plain": [
              "<Figure size 1080x288 with 3 Axes>"
            ],
            "image/png": "[encoded data removed]"
          },
          "metadata": {
            "needs_background": "light"
          }
        }
      ],
      "source": [
        "model = tf.keras.models.Sequential([\n",
        "    tf.keras.layers.Flatten(input_shape=(32, 32, 3)),\n",
        "    tf.keras.layers.Dense(1000, activation='relu'),\n",
        "    tf.keras.layers.Dense(512, activation='relu'),\n",
        "    tf.keras.layers.Dense(256, activation='relu'),\n",
        "    tf.keras.layers.Dense(10)\n",
        "])\n",
        "\n",
        "model.compile('adam', tf.keras.losses.SparseCategoricalCrossentropy(from_logits=True), ['accuracy'])\n",
        "h = model.fit(cifar_train.batch(128), epochs = 10, validation_data = cifar_test.batch(128), verbose = 2)\n",
        "plot(model, h, cifar_test)"
      ]
    },
    {
      "cell_type": "code",
      "source": [
        ""
      ],
      "metadata": {
        "id": "_sJlGSeE4KLe"
      },
      "execution_count": null,
      "outputs": []
    }
  ],
  "metadata": {
    "kernelspec": {
      "display_name": "Python 3 (ipykernel)",
      "language": "python",
      "name": "python3"
    },
    "language_info": {
      "codemirror_mode": {
        "name": "ipython",
        "version": 3
      },
      "file_extension": ".py",
      "mimetype": "text/x-python",
      "name": "python",
      "nbconvert_exporter": "python",
      "pygments_lexer": "ipython3",
      "version": "3.10.2"
    },
    "colab": {
      "name": "Solution.ipynb",
      "provenance": []
    },
    "widgets": {
      "application/vnd.jupyter.widget-state+json": {
        "deeb6bbe5c9544bf9b851d545961bc97": {
          "model_module": "@jupyter-widgets/controls",
          "model_name": "HBoxModel",
          "model_module_version": "1.5.0",
          "state": {
            "_dom_classes": [],
            "_model_module": "@jupyter-widgets/controls",
            "_model_module_version": "1.5.0",
            "_model_name": "HBoxModel",
            "_view_count": null,
            "_view_module": "@jupyter-widgets/controls",
            "_view_module_version": "1.5.0",
            "_view_name": "HBoxView",
            "box_style": "",
            "children": [
              "IPY_MODEL_01d403b6f95349bcb40f8f1517493e09",
              "IPY_MODEL_85ead653b3b845dbb6478af13c716210",
              "IPY_MODEL_65ed14fcdd0748fea5116a95bf8d759d"
            ],
            "layout": "IPY_MODEL_896963b732344418a20f658666259bc3"
          }
        },
        "01d403b6f95349bcb40f8f1517493e09": {
          "model_module": "@jupyter-widgets/controls",
          "model_name": "HTMLModel",
          "model_module_version": "1.5.0",
          "state": {
            "_dom_classes": [],
            "_model_module": "@jupyter-widgets/controls",
            "_model_module_version": "1.5.0",
            "_model_name": "HTMLModel",
            "_view_count": null,
            "_view_module": "@jupyter-widgets/controls",
            "_view_module_version": "1.5.0",
            "_view_name": "HTMLView",
            "description": "",
            "description_tooltip": null,
            "layout": "IPY_MODEL_dd7e29509f9d43618242ac89026f1256",
            "placeholder": "​",
            "style": "IPY_MODEL_b59b7b70bbce47c2ac0a79dbf60b7bf5",
            "value": "Dl Size...: 100%"
          }
        },
        "85ead653b3b845dbb6478af13c716210": {
          "model_module": "@jupyter-widgets/controls",
          "model_name": "FloatProgressModel",
          "model_module_version": "1.5.0",
          "state": {
            "_dom_classes": [],
            "_model_module": "@jupyter-widgets/controls",
            "_model_module_version": "1.5.0",
            "_model_name": "FloatProgressModel",
            "_view_count": null,
            "_view_module": "@jupyter-widgets/controls",
            "_view_module_version": "1.5.0",
            "_view_name": "ProgressView",
            "bar_style": "success",
            "description": "",
            "description_tooltip": null,
            "layout": "IPY_MODEL_ab2312d213fe496fbd1a635cff584e70",
            "max": 1,
            "min": 0,
            "orientation": "horizontal",
            "style": "IPY_MODEL_85e275118bc2446bb5cd8559be72eff6",
            "value": 1
          }
        },
        "65ed14fcdd0748fea5116a95bf8d759d": {
          "model_module": "@jupyter-widgets/controls",
          "model_name": "HTMLModel",
          "model_module_version": "1.5.0",
          "state": {
            "_dom_classes": [],
            "_model_module": "@jupyter-widgets/controls",
            "_model_module_version": "1.5.0",
            "_model_name": "HTMLModel",
            "_view_count": null,
            "_view_module": "@jupyter-widgets/controls",
            "_view_module_version": "1.5.0",
            "_view_name": "HTMLView",
            "description": "",
            "description_tooltip": null,
            "layout": "IPY_MODEL_fa647c2d46df4230b8746c6df75387a1",
            "placeholder": "​",
            "style": "IPY_MODEL_e1dbbd1f6f1d49baace3a264b5b12d44",
            "value": " 162/162 [00:07&lt;00:00, 44.28 MiB/s]"
          }
        },
        "896963b732344418a20f658666259bc3": {
          "model_module": "@jupyter-widgets/base",
          "model_name": "LayoutModel",
          "model_module_version": "1.2.0",
          "state": {
            "_model_module": "@jupyter-widgets/base",
            "_model_module_version": "1.2.0",
            "_model_name": "LayoutModel",
            "_view_count": null,
            "_view_module": "@jupyter-widgets/base",
            "_view_module_version": "1.2.0",
            "_view_name": "LayoutView",
            "align_content": null,
            "align_items": null,
            "align_self": null,
            "border": null,
            "bottom": null,
            "display": null,
            "flex": null,
            "flex_flow": null,
            "grid_area": null,
            "grid_auto_columns": null,
            "grid_auto_flow": null,
            "grid_auto_rows": null,
            "grid_column": null,
            "grid_gap": null,
            "grid_row": null,
            "grid_template_areas": null,
            "grid_template_columns": null,
            "grid_template_rows": null,
            "height": null,
            "justify_content": null,
            "justify_items": null,
            "left": null,
            "margin": null,
            "max_height": null,
            "max_width": null,
            "min_height": null,
            "min_width": null,
            "object_fit": null,
            "object_position": null,
            "order": null,
            "overflow": null,
            "overflow_x": null,
            "overflow_y": null,
            "padding": null,
            "right": null,
            "top": null,
            "visibility": null,
            "width": null
          }
        },
        "dd7e29509f9d43618242ac89026f1256": {
          "model_module": "@jupyter-widgets/base",
          "model_name": "LayoutModel",
          "model_module_version": "1.2.0",
          "state": {
            "_model_module": "@jupyter-widgets/base",
            "_model_module_version": "1.2.0",
            "_model_name": "LayoutModel",
            "_view_count": null,
            "_view_module": "@jupyter-widgets/base",
            "_view_module_version": "1.2.0",
            "_view_name": "LayoutView",
            "align_content": null,
            "align_items": null,
            "align_self": null,
            "border": null,
            "bottom": null,
            "display": null,
            "flex": null,
            "flex_flow": null,
            "grid_area": null,
            "grid_auto_columns": null,
            "grid_auto_flow": null,
            "grid_auto_rows": null,
            "grid_column": null,
            "grid_gap": null,
            "grid_row": null,
            "grid_template_areas": null,
            "grid_template_columns": null,
            "grid_template_rows": null,
            "height": null,
            "justify_content": null,
            "justify_items": null,
            "left": null,
            "margin": null,
            "max_height": null,
            "max_width": null,
            "min_height": null,
            "min_width": null,
            "object_fit": null,
            "object_position": null,
            "order": null,
            "overflow": null,
            "overflow_x": null,
            "overflow_y": null,
            "padding": null,
            "right": null,
            "top": null,
            "visibility": null,
            "width": null
          }
        },
        "b59b7b70bbce47c2ac0a79dbf60b7bf5": {
          "model_module": "@jupyter-widgets/controls",
          "model_name": "DescriptionStyleModel",
          "model_module_version": "1.5.0",
          "state": {
            "_model_module": "@jupyter-widgets/controls",
            "_model_module_version": "1.5.0",
            "_model_name": "DescriptionStyleModel",
            "_view_count": null,
            "_view_module": "@jupyter-widgets/base",
            "_view_module_version": "1.2.0",
            "_view_name": "StyleView",
            "description_width": ""
          }
        },
        "ab2312d213fe496fbd1a635cff584e70": {
          "model_module": "@jupyter-widgets/base",
          "model_name": "LayoutModel",
          "model_module_version": "1.2.0",
          "state": {
            "_model_module": "@jupyter-widgets/base",
            "_model_module_version": "1.2.0",
            "_model_name": "LayoutModel",
            "_view_count": null,
            "_view_module": "@jupyter-widgets/base",
            "_view_module_version": "1.2.0",
            "_view_name": "LayoutView",
            "align_content": null,
            "align_items": null,
            "align_self": null,
            "border": null,
            "bottom": null,
            "display": null,
            "flex": null,
            "flex_flow": null,
            "grid_area": null,
            "grid_auto_columns": null,
            "grid_auto_flow": null,
            "grid_auto_rows": null,
            "grid_column": null,
            "grid_gap": null,
            "grid_row": null,
            "grid_template_areas": null,
            "grid_template_columns": null,
            "grid_template_rows": null,
            "height": null,
            "justify_content": null,
            "justify_items": null,
            "left": null,
            "margin": null,
            "max_height": null,
            "max_width": null,
            "min_height": null,
            "min_width": null,
            "object_fit": null,
            "object_position": null,
            "order": null,
            "overflow": null,
            "overflow_x": null,
            "overflow_y": null,
            "padding": null,
            "right": null,
            "top": null,
            "visibility": null,
            "width": "20px"
          }
        },
        "85e275118bc2446bb5cd8559be72eff6": {
          "model_module": "@jupyter-widgets/controls",
          "model_name": "ProgressStyleModel",
          "model_module_version": "1.5.0",
          "state": {
            "_model_module": "@jupyter-widgets/controls",
            "_model_module_version": "1.5.0",
            "_model_name": "ProgressStyleModel",
            "_view_count": null,
            "_view_module": "@jupyter-widgets/base",
            "_view_module_version": "1.2.0",
            "_view_name": "StyleView",
            "bar_color": null,
            "description_width": ""
          }
        },
        "fa647c2d46df4230b8746c6df75387a1": {
          "model_module": "@jupyter-widgets/base",
          "model_name": "LayoutModel",
          "model_module_version": "1.2.0",
          "state": {
            "_model_module": "@jupyter-widgets/base",
            "_model_module_version": "1.2.0",
            "_model_name": "LayoutModel",
            "_view_count": null,
            "_view_module": "@jupyter-widgets/base",
            "_view_module_version": "1.2.0",
            "_view_name": "LayoutView",
            "align_content": null,
            "align_items": null,
            "align_self": null,
            "border": null,
            "bottom": null,
            "display": null,
            "flex": null,
            "flex_flow": null,
            "grid_area": null,
            "grid_auto_columns": null,
            "grid_auto_flow": null,
            "grid_auto_rows": null,
            "grid_column": null,
            "grid_gap": null,
            "grid_row": null,
            "grid_template_areas": null,
            "grid_template_columns": null,
            "grid_template_rows": null,
            "height": null,
            "justify_content": null,
            "justify_items": null,
            "left": null,
            "margin": null,
            "max_height": null,
            "max_width": null,
            "min_height": null,
            "min_width": null,
            "object_fit": null,
            "object_position": null,
            "order": null,
            "overflow": null,
            "overflow_x": null,
            "overflow_y": null,
            "padding": null,
            "right": null,
            "top": null,
            "visibility": null,
            "width": null
          }
        },
        "e1dbbd1f6f1d49baace3a264b5b12d44": {
          "model_module": "@jupyter-widgets/controls",
          "model_name": "DescriptionStyleModel",
          "model_module_version": "1.5.0",
          "state": {
            "_model_module": "@jupyter-widgets/controls",
            "_model_module_version": "1.5.0",
            "_model_name": "DescriptionStyleModel",
            "_view_count": null,
            "_view_module": "@jupyter-widgets/base",
            "_view_module_version": "1.2.0",
            "_view_name": "StyleView",
            "description_width": ""
          }
        },
        "a34acb766098405e8cd8972bfc10442c": {
          "model_module": "@jupyter-widgets/controls",
          "model_name": "HBoxModel",
          "model_module_version": "1.5.0",
          "state": {
            "_dom_classes": [],
            "_model_module": "@jupyter-widgets/controls",
            "_model_module_version": "1.5.0",
            "_model_name": "HBoxModel",
            "_view_count": null,
            "_view_module": "@jupyter-widgets/controls",
            "_view_module_version": "1.5.0",
            "_view_name": "HBoxView",
            "box_style": "",
            "children": [
              "IPY_MODEL_8fe866aca7744edc8cb6ce6bc45cd5ed",
              "IPY_MODEL_245196ce8ca9447bb0768228a3db71f5",
              "IPY_MODEL_1b17731fcaa3480a81963ab7bb2288ce"
            ],
            "layout": "IPY_MODEL_2f045bd705734f2096aab4dd4040d6e5"
          }
        },
        "8fe866aca7744edc8cb6ce6bc45cd5ed": {
          "model_module": "@jupyter-widgets/controls",
          "model_name": "HTMLModel",
          "model_module_version": "1.5.0",
          "state": {
            "_dom_classes": [],
            "_model_module": "@jupyter-widgets/controls",
            "_model_module_version": "1.5.0",
            "_model_name": "HTMLModel",
            "_view_count": null,
            "_view_module": "@jupyter-widgets/controls",
            "_view_module_version": "1.5.0",
            "_view_name": "HTMLView",
            "description": "",
            "description_tooltip": null,
            "layout": "IPY_MODEL_153a3200879e4ebf827a3e09d84ab963",
            "placeholder": "​",
            "style": "IPY_MODEL_42c4cfca3a9e455faaf422a4a60fc52d",
            "value": "Extraction completed...: 100%"
          }
        },
        "245196ce8ca9447bb0768228a3db71f5": {
          "model_module": "@jupyter-widgets/controls",
          "model_name": "FloatProgressModel",
          "model_module_version": "1.5.0",
          "state": {
            "_dom_classes": [],
            "_model_module": "@jupyter-widgets/controls",
            "_model_module_version": "1.5.0",
            "_model_name": "FloatProgressModel",
            "_view_count": null,
            "_view_module": "@jupyter-widgets/controls",
            "_view_module_version": "1.5.0",
            "_view_name": "ProgressView",
            "bar_style": "success",
            "description": "",
            "description_tooltip": null,
            "layout": "IPY_MODEL_455e5f2687214856b9786ae9043528c1",
            "max": 1,
            "min": 0,
            "orientation": "horizontal",
            "style": "IPY_MODEL_4c853fa75e4a4c6792ea6d5fef147ef8",
            "value": 1
          }
        },
        "1b17731fcaa3480a81963ab7bb2288ce": {
          "model_module": "@jupyter-widgets/controls",
          "model_name": "HTMLModel",
          "model_module_version": "1.5.0",
          "state": {
            "_dom_classes": [],
            "_model_module": "@jupyter-widgets/controls",
            "_model_module_version": "1.5.0",
            "_model_name": "HTMLModel",
            "_view_count": null,
            "_view_module": "@jupyter-widgets/controls",
            "_view_module_version": "1.5.0",
            "_view_name": "HTMLView",
            "description": "",
            "description_tooltip": null,
            "layout": "IPY_MODEL_512bff662bab42b0b8636fa7daa4c706",
            "placeholder": "​",
            "style": "IPY_MODEL_d4e10c72224443ee9ae9b7809da53eb9",
            "value": " 1/1 [00:07&lt;00:00,  7.10s/ file]"
          }
        },
        "2f045bd705734f2096aab4dd4040d6e5": {
          "model_module": "@jupyter-widgets/base",
          "model_name": "LayoutModel",
          "model_module_version": "1.2.0",
          "state": {
            "_model_module": "@jupyter-widgets/base",
            "_model_module_version": "1.2.0",
            "_model_name": "LayoutModel",
            "_view_count": null,
            "_view_module": "@jupyter-widgets/base",
            "_view_module_version": "1.2.0",
            "_view_name": "LayoutView",
            "align_content": null,
            "align_items": null,
            "align_self": null,
            "border": null,
            "bottom": null,
            "display": null,
            "flex": null,
            "flex_flow": null,
            "grid_area": null,
            "grid_auto_columns": null,
            "grid_auto_flow": null,
            "grid_auto_rows": null,
            "grid_column": null,
            "grid_gap": null,
            "grid_row": null,
            "grid_template_areas": null,
            "grid_template_columns": null,
            "grid_template_rows": null,
            "height": null,
            "justify_content": null,
            "justify_items": null,
            "left": null,
            "margin": null,
            "max_height": null,
            "max_width": null,
            "min_height": null,
            "min_width": null,
            "object_fit": null,
            "object_position": null,
            "order": null,
            "overflow": null,
            "overflow_x": null,
            "overflow_y": null,
            "padding": null,
            "right": null,
            "top": null,
            "visibility": null,
            "width": null
          }
        },
        "153a3200879e4ebf827a3e09d84ab963": {
          "model_module": "@jupyter-widgets/base",
          "model_name": "LayoutModel",
          "model_module_version": "1.2.0",
          "state": {
            "_model_module": "@jupyter-widgets/base",
            "_model_module_version": "1.2.0",
            "_model_name": "LayoutModel",
            "_view_count": null,
            "_view_module": "@jupyter-widgets/base",
            "_view_module_version": "1.2.0",
            "_view_name": "LayoutView",
            "align_content": null,
            "align_items": null,
            "align_self": null,
            "border": null,
            "bottom": null,
            "display": null,
            "flex": null,
            "flex_flow": null,
            "grid_area": null,
            "grid_auto_columns": null,
            "grid_auto_flow": null,
            "grid_auto_rows": null,
            "grid_column": null,
            "grid_gap": null,
            "grid_row": null,
            "grid_template_areas": null,
            "grid_template_columns": null,
            "grid_template_rows": null,
            "height": null,
            "justify_content": null,
            "justify_items": null,
            "left": null,
            "margin": null,
            "max_height": null,
            "max_width": null,
            "min_height": null,
            "min_width": null,
            "object_fit": null,
            "object_position": null,
            "order": null,
            "overflow": null,
            "overflow_x": null,
            "overflow_y": null,
            "padding": null,
            "right": null,
            "top": null,
            "visibility": null,
            "width": null
          }
        },
        "42c4cfca3a9e455faaf422a4a60fc52d": {
          "model_module": "@jupyter-widgets/controls",
          "model_name": "DescriptionStyleModel",
          "model_module_version": "1.5.0",
          "state": {
            "_model_module": "@jupyter-widgets/controls",
            "_model_module_version": "1.5.0",
            "_model_name": "DescriptionStyleModel",
            "_view_count": null,
            "_view_module": "@jupyter-widgets/base",
            "_view_module_version": "1.2.0",
            "_view_name": "StyleView",
            "description_width": ""
          }
        },
        "455e5f2687214856b9786ae9043528c1": {
          "model_module": "@jupyter-widgets/base",
          "model_name": "LayoutModel",
          "model_module_version": "1.2.0",
          "state": {
            "_model_module": "@jupyter-widgets/base",
            "_model_module_version": "1.2.0",
            "_model_name": "LayoutModel",
            "_view_count": null,
            "_view_module": "@jupyter-widgets/base",
            "_view_module_version": "1.2.0",
            "_view_name": "LayoutView",
            "align_content": null,
            "align_items": null,
            "align_self": null,
            "border": null,
            "bottom": null,
            "display": null,
            "flex": null,
            "flex_flow": null,
            "grid_area": null,
            "grid_auto_columns": null,
            "grid_auto_flow": null,
            "grid_auto_rows": null,
            "grid_column": null,
            "grid_gap": null,
            "grid_row": null,
            "grid_template_areas": null,
            "grid_template_columns": null,
            "grid_template_rows": null,
            "height": null,
            "justify_content": null,
            "justify_items": null,
            "left": null,
            "margin": null,
            "max_height": null,
            "max_width": null,
            "min_height": null,
            "min_width": null,
            "object_fit": null,
            "object_position": null,
            "order": null,
            "overflow": null,
            "overflow_x": null,
            "overflow_y": null,
            "padding": null,
            "right": null,
            "top": null,
            "visibility": null,
            "width": "20px"
          }
        },
        "4c853fa75e4a4c6792ea6d5fef147ef8": {
          "model_module": "@jupyter-widgets/controls",
          "model_name": "ProgressStyleModel",
          "model_module_version": "1.5.0",
          "state": {
            "_model_module": "@jupyter-widgets/controls",
            "_model_module_version": "1.5.0",
            "_model_name": "ProgressStyleModel",
            "_view_count": null,
            "_view_module": "@jupyter-widgets/base",
            "_view_module_version": "1.2.0",
            "_view_name": "StyleView",
            "bar_color": null,
            "description_width": ""
          }
        },
        "512bff662bab42b0b8636fa7daa4c706": {
          "model_module": "@jupyter-widgets/base",
          "model_name": "LayoutModel",
          "model_module_version": "1.2.0",
          "state": {
            "_model_module": "@jupyter-widgets/base",
            "_model_module_version": "1.2.0",
            "_model_name": "LayoutModel",
            "_view_count": null,
            "_view_module": "@jupyter-widgets/base",
            "_view_module_version": "1.2.0",
            "_view_name": "LayoutView",
            "align_content": null,
            "align_items": null,
            "align_self": null,
            "border": null,
            "bottom": null,
            "display": null,
            "flex": null,
            "flex_flow": null,
            "grid_area": null,
            "grid_auto_columns": null,
            "grid_auto_flow": null,
            "grid_auto_rows": null,
            "grid_column": null,
            "grid_gap": null,
            "grid_row": null,
            "grid_template_areas": null,
            "grid_template_columns": null,
            "grid_template_rows": null,
            "height": null,
            "justify_content": null,
            "justify_items": null,
            "left": null,
            "margin": null,
            "max_height": null,
            "max_width": null,
            "min_height": null,
            "min_width": null,
            "object_fit": null,
            "object_position": null,
            "order": null,
            "overflow": null,
            "overflow_x": null,
            "overflow_y": null,
            "padding": null,
            "right": null,
            "top": null,
            "visibility": null,
            "width": null
          }
        },
        "d4e10c72224443ee9ae9b7809da53eb9": {
          "model_module": "@jupyter-widgets/controls",
          "model_name": "DescriptionStyleModel",
          "model_module_version": "1.5.0",
          "state": {
            "_model_module": "@jupyter-widgets/controls",
            "_model_module_version": "1.5.0",
            "_model_name": "DescriptionStyleModel",
            "_view_count": null,
            "_view_module": "@jupyter-widgets/base",
            "_view_module_version": "1.2.0",
            "_view_name": "StyleView",
            "description_width": ""
          }
        },
        "33a37b02e3cd4dbbb18014de6f5a388c": {
          "model_module": "@jupyter-widgets/controls",
          "model_name": "HBoxModel",
          "model_module_version": "1.5.0",
          "state": {
            "_dom_classes": [],
            "_model_module": "@jupyter-widgets/controls",
            "_model_module_version": "1.5.0",
            "_model_name": "HBoxModel",
            "_view_count": null,
            "_view_module": "@jupyter-widgets/controls",
            "_view_module_version": "1.5.0",
            "_view_name": "HBoxView",
            "box_style": "",
            "children": [
              "IPY_MODEL_e47e6c22aee44f28abfd4486a17f61e8",
              "IPY_MODEL_6a6fc6942ff440749e0389ab1b0f71b7",
              "IPY_MODEL_02c085e2a3a94728924a73a22c3fd4ce"
            ],
            "layout": "IPY_MODEL_6a34c6dfadbd46dab542038755d0be80"
          }
        },
        "e47e6c22aee44f28abfd4486a17f61e8": {
          "model_module": "@jupyter-widgets/controls",
          "model_name": "HTMLModel",
          "model_module_version": "1.5.0",
          "state": {
            "_dom_classes": [],
            "_model_module": "@jupyter-widgets/controls",
            "_model_module_version": "1.5.0",
            "_model_name": "HTMLModel",
            "_view_count": null,
            "_view_module": "@jupyter-widgets/controls",
            "_view_module_version": "1.5.0",
            "_view_name": "HTMLView",
            "description": "",
            "description_tooltip": null,
            "layout": "IPY_MODEL_eded183fbab0434492f36ce0dc362c9f",
            "placeholder": "​",
            "style": "IPY_MODEL_1a6f0cf38136464d860d161d7260b8be",
            "value": ""
          }
        },
        "6a6fc6942ff440749e0389ab1b0f71b7": {
          "model_module": "@jupyter-widgets/controls",
          "model_name": "FloatProgressModel",
          "model_module_version": "1.5.0",
          "state": {
            "_dom_classes": [],
            "_model_module": "@jupyter-widgets/controls",
            "_model_module_version": "1.5.0",
            "_model_name": "FloatProgressModel",
            "_view_count": null,
            "_view_module": "@jupyter-widgets/controls",
            "_view_module_version": "1.5.0",
            "_view_name": "ProgressView",
            "bar_style": "info",
            "description": "",
            "description_tooltip": null,
            "layout": "IPY_MODEL_7d656b9b56234d148cb892a635f0f0a6",
            "max": 1,
            "min": 0,
            "orientation": "horizontal",
            "style": "IPY_MODEL_fc270dd903a34c6483ccb92e26169b42",
            "value": 1
          }
        },
        "02c085e2a3a94728924a73a22c3fd4ce": {
          "model_module": "@jupyter-widgets/controls",
          "model_name": "HTMLModel",
          "model_module_version": "1.5.0",
          "state": {
            "_dom_classes": [],
            "_model_module": "@jupyter-widgets/controls",
            "_model_module_version": "1.5.0",
            "_model_name": "HTMLModel",
            "_view_count": null,
            "_view_module": "@jupyter-widgets/controls",
            "_view_module_version": "1.5.0",
            "_view_name": "HTMLView",
            "description": "",
            "description_tooltip": null,
            "layout": "IPY_MODEL_c47bc4b081304157b0edfae5afef0f4f",
            "placeholder": "​",
            "style": "IPY_MODEL_8b8efbf6434643fbb1ce911e4c77becf",
            "value": " 49931/0 [00:40&lt;00:00, 1414.86 examples/s]"
          }
        },
        "6a34c6dfadbd46dab542038755d0be80": {
          "model_module": "@jupyter-widgets/base",
          "model_name": "LayoutModel",
          "model_module_version": "1.2.0",
          "state": {
            "_model_module": "@jupyter-widgets/base",
            "_model_module_version": "1.2.0",
            "_model_name": "LayoutModel",
            "_view_count": null,
            "_view_module": "@jupyter-widgets/base",
            "_view_module_version": "1.2.0",
            "_view_name": "LayoutView",
            "align_content": null,
            "align_items": null,
            "align_self": null,
            "border": null,
            "bottom": null,
            "display": null,
            "flex": null,
            "flex_flow": null,
            "grid_area": null,
            "grid_auto_columns": null,
            "grid_auto_flow": null,
            "grid_auto_rows": null,
            "grid_column": null,
            "grid_gap": null,
            "grid_row": null,
            "grid_template_areas": null,
            "grid_template_columns": null,
            "grid_template_rows": null,
            "height": null,
            "justify_content": null,
            "justify_items": null,
            "left": null,
            "margin": null,
            "max_height": null,
            "max_width": null,
            "min_height": null,
            "min_width": null,
            "object_fit": null,
            "object_position": null,
            "order": null,
            "overflow": null,
            "overflow_x": null,
            "overflow_y": null,
            "padding": null,
            "right": null,
            "top": null,
            "visibility": null,
            "width": null
          }
        },
        "eded183fbab0434492f36ce0dc362c9f": {
          "model_module": "@jupyter-widgets/base",
          "model_name": "LayoutModel",
          "model_module_version": "1.2.0",
          "state": {
            "_model_module": "@jupyter-widgets/base",
            "_model_module_version": "1.2.0",
            "_model_name": "LayoutModel",
            "_view_count": null,
            "_view_module": "@jupyter-widgets/base",
            "_view_module_version": "1.2.0",
            "_view_name": "LayoutView",
            "align_content": null,
            "align_items": null,
            "align_self": null,
            "border": null,
            "bottom": null,
            "display": null,
            "flex": null,
            "flex_flow": null,
            "grid_area": null,
            "grid_auto_columns": null,
            "grid_auto_flow": null,
            "grid_auto_rows": null,
            "grid_column": null,
            "grid_gap": null,
            "grid_row": null,
            "grid_template_areas": null,
            "grid_template_columns": null,
            "grid_template_rows": null,
            "height": null,
            "justify_content": null,
            "justify_items": null,
            "left": null,
            "margin": null,
            "max_height": null,
            "max_width": null,
            "min_height": null,
            "min_width": null,
            "object_fit": null,
            "object_position": null,
            "order": null,
            "overflow": null,
            "overflow_x": null,
            "overflow_y": null,
            "padding": null,
            "right": null,
            "top": null,
            "visibility": null,
            "width": null
          }
        },
        "1a6f0cf38136464d860d161d7260b8be": {
          "model_module": "@jupyter-widgets/controls",
          "model_name": "DescriptionStyleModel",
          "model_module_version": "1.5.0",
          "state": {
            "_model_module": "@jupyter-widgets/controls",
            "_model_module_version": "1.5.0",
            "_model_name": "DescriptionStyleModel",
            "_view_count": null,
            "_view_module": "@jupyter-widgets/base",
            "_view_module_version": "1.2.0",
            "_view_name": "StyleView",
            "description_width": ""
          }
        },
        "7d656b9b56234d148cb892a635f0f0a6": {
          "model_module": "@jupyter-widgets/base",
          "model_name": "LayoutModel",
          "model_module_version": "1.2.0",
          "state": {
            "_model_module": "@jupyter-widgets/base",
            "_model_module_version": "1.2.0",
            "_model_name": "LayoutModel",
            "_view_count": null,
            "_view_module": "@jupyter-widgets/base",
            "_view_module_version": "1.2.0",
            "_view_name": "LayoutView",
            "align_content": null,
            "align_items": null,
            "align_self": null,
            "border": null,
            "bottom": null,
            "display": null,
            "flex": null,
            "flex_flow": null,
            "grid_area": null,
            "grid_auto_columns": null,
            "grid_auto_flow": null,
            "grid_auto_rows": null,
            "grid_column": null,
            "grid_gap": null,
            "grid_row": null,
            "grid_template_areas": null,
            "grid_template_columns": null,
            "grid_template_rows": null,
            "height": null,
            "justify_content": null,
            "justify_items": null,
            "left": null,
            "margin": null,
            "max_height": null,
            "max_width": null,
            "min_height": null,
            "min_width": null,
            "object_fit": null,
            "object_position": null,
            "order": null,
            "overflow": null,
            "overflow_x": null,
            "overflow_y": null,
            "padding": null,
            "right": null,
            "top": null,
            "visibility": null,
            "width": "20px"
          }
        },
        "fc270dd903a34c6483ccb92e26169b42": {
          "model_module": "@jupyter-widgets/controls",
          "model_name": "ProgressStyleModel",
          "model_module_version": "1.5.0",
          "state": {
            "_model_module": "@jupyter-widgets/controls",
            "_model_module_version": "1.5.0",
            "_model_name": "ProgressStyleModel",
            "_view_count": null,
            "_view_module": "@jupyter-widgets/base",
            "_view_module_version": "1.2.0",
            "_view_name": "StyleView",
            "bar_color": null,
            "description_width": ""
          }
        },
        "c47bc4b081304157b0edfae5afef0f4f": {
          "model_module": "@jupyter-widgets/base",
          "model_name": "LayoutModel",
          "model_module_version": "1.2.0",
          "state": {
            "_model_module": "@jupyter-widgets/base",
            "_model_module_version": "1.2.0",
            "_model_name": "LayoutModel",
            "_view_count": null,
            "_view_module": "@jupyter-widgets/base",
            "_view_module_version": "1.2.0",
            "_view_name": "LayoutView",
            "align_content": null,
            "align_items": null,
            "align_self": null,
            "border": null,
            "bottom": null,
            "display": null,
            "flex": null,
            "flex_flow": null,
            "grid_area": null,
            "grid_auto_columns": null,
            "grid_auto_flow": null,
            "grid_auto_rows": null,
            "grid_column": null,
            "grid_gap": null,
            "grid_row": null,
            "grid_template_areas": null,
            "grid_template_columns": null,
            "grid_template_rows": null,
            "height": null,
            "justify_content": null,
            "justify_items": null,
            "left": null,
            "margin": null,
            "max_height": null,
            "max_width": null,
            "min_height": null,
            "min_width": null,
            "object_fit": null,
            "object_position": null,
            "order": null,
            "overflow": null,
            "overflow_x": null,
            "overflow_y": null,
            "padding": null,
            "right": null,
            "top": null,
            "visibility": null,
            "width": null
          }
        },
        "8b8efbf6434643fbb1ce911e4c77becf": {
          "model_module": "@jupyter-widgets/controls",
          "model_name": "DescriptionStyleModel",
          "model_module_version": "1.5.0",
          "state": {
            "_model_module": "@jupyter-widgets/controls",
            "_model_module_version": "1.5.0",
            "_model_name": "DescriptionStyleModel",
            "_view_count": null,
            "_view_module": "@jupyter-widgets/base",
            "_view_module_version": "1.2.0",
            "_view_name": "StyleView",
            "description_width": ""
          }
        },
        "6cbffa9a0d2b46ae99e1593bd99e24e9": {
          "model_module": "@jupyter-widgets/controls",
          "model_name": "HBoxModel",
          "model_module_version": "1.5.0",
          "state": {
            "_dom_classes": [],
            "_model_module": "@jupyter-widgets/controls",
            "_model_module_version": "1.5.0",
            "_model_name": "HBoxModel",
            "_view_count": null,
            "_view_module": "@jupyter-widgets/controls",
            "_view_module_version": "1.5.0",
            "_view_name": "HBoxView",
            "box_style": "",
            "children": [
              "IPY_MODEL_73fdd17ee603488e8b864e3ae3df6df1",
              "IPY_MODEL_a1812798cd8245cca6cda887d8e95992",
              "IPY_MODEL_92fa9c797cb4401985d1cdc3982fd539"
            ],
            "layout": "IPY_MODEL_28b00d71b9fe4f41b7cb4661a17ca78d"
          }
        },
        "73fdd17ee603488e8b864e3ae3df6df1": {
          "model_module": "@jupyter-widgets/controls",
          "model_name": "HTMLModel",
          "model_module_version": "1.5.0",
          "state": {
            "_dom_classes": [],
            "_model_module": "@jupyter-widgets/controls",
            "_model_module_version": "1.5.0",
            "_model_name": "HTMLModel",
            "_view_count": null,
            "_view_module": "@jupyter-widgets/controls",
            "_view_module_version": "1.5.0",
            "_view_name": "HTMLView",
            "description": "",
            "description_tooltip": null,
            "layout": "IPY_MODEL_389db62593054ece80f28a864f95019b",
            "placeholder": "​",
            "style": "IPY_MODEL_1f78e91ff3b947c99663a1616b2b6c23",
            "value": "100%"
          }
        },
        "a1812798cd8245cca6cda887d8e95992": {
          "model_module": "@jupyter-widgets/controls",
          "model_name": "FloatProgressModel",
          "model_module_version": "1.5.0",
          "state": {
            "_dom_classes": [],
            "_model_module": "@jupyter-widgets/controls",
            "_model_module_version": "1.5.0",
            "_model_name": "FloatProgressModel",
            "_view_count": null,
            "_view_module": "@jupyter-widgets/controls",
            "_view_module_version": "1.5.0",
            "_view_name": "ProgressView",
            "bar_style": "danger",
            "description": "",
            "description_tooltip": null,
            "layout": "IPY_MODEL_9aeebad849a84a56af5e068c2535c206",
            "max": 50000,
            "min": 0,
            "orientation": "horizontal",
            "style": "IPY_MODEL_6c988017b62448bb9bf671d084e0068c",
            "value": 49999
          }
        },
        "92fa9c797cb4401985d1cdc3982fd539": {
          "model_module": "@jupyter-widgets/controls",
          "model_name": "HTMLModel",
          "model_module_version": "1.5.0",
          "state": {
            "_dom_classes": [],
            "_model_module": "@jupyter-widgets/controls",
            "_model_module_version": "1.5.0",
            "_model_name": "HTMLModel",
            "_view_count": null,
            "_view_module": "@jupyter-widgets/controls",
            "_view_module_version": "1.5.0",
            "_view_name": "HTMLView",
            "description": "",
            "description_tooltip": null,
            "layout": "IPY_MODEL_b779ed175d754430bf02cb267c34d9fd",
            "placeholder": "​",
            "style": "IPY_MODEL_6fca6786abab49e487dd6113da438585",
            "value": " 49999/50000 [00:00&lt;00:00, 130882.59 examples/s]"
          }
        },
        "28b00d71b9fe4f41b7cb4661a17ca78d": {
          "model_module": "@jupyter-widgets/base",
          "model_name": "LayoutModel",
          "model_module_version": "1.2.0",
          "state": {
            "_model_module": "@jupyter-widgets/base",
            "_model_module_version": "1.2.0",
            "_model_name": "LayoutModel",
            "_view_count": null,
            "_view_module": "@jupyter-widgets/base",
            "_view_module_version": "1.2.0",
            "_view_name": "LayoutView",
            "align_content": null,
            "align_items": null,
            "align_self": null,
            "border": null,
            "bottom": null,
            "display": null,
            "flex": null,
            "flex_flow": null,
            "grid_area": null,
            "grid_auto_columns": null,
            "grid_auto_flow": null,
            "grid_auto_rows": null,
            "grid_column": null,
            "grid_gap": null,
            "grid_row": null,
            "grid_template_areas": null,
            "grid_template_columns": null,
            "grid_template_rows": null,
            "height": null,
            "justify_content": null,
            "justify_items": null,
            "left": null,
            "margin": null,
            "max_height": null,
            "max_width": null,
            "min_height": null,
            "min_width": null,
            "object_fit": null,
            "object_position": null,
            "order": null,
            "overflow": null,
            "overflow_x": null,
            "overflow_y": null,
            "padding": null,
            "right": null,
            "top": null,
            "visibility": null,
            "width": null
          }
        },
        "389db62593054ece80f28a864f95019b": {
          "model_module": "@jupyter-widgets/base",
          "model_name": "LayoutModel",
          "model_module_version": "1.2.0",
          "state": {
            "_model_module": "@jupyter-widgets/base",
            "_model_module_version": "1.2.0",
            "_model_name": "LayoutModel",
            "_view_count": null,
            "_view_module": "@jupyter-widgets/base",
            "_view_module_version": "1.2.0",
            "_view_name": "LayoutView",
            "align_content": null,
            "align_items": null,
            "align_self": null,
            "border": null,
            "bottom": null,
            "display": null,
            "flex": null,
            "flex_flow": null,
            "grid_area": null,
            "grid_auto_columns": null,
            "grid_auto_flow": null,
            "grid_auto_rows": null,
            "grid_column": null,
            "grid_gap": null,
            "grid_row": null,
            "grid_template_areas": null,
            "grid_template_columns": null,
            "grid_template_rows": null,
            "height": null,
            "justify_content": null,
            "justify_items": null,
            "left": null,
            "margin": null,
            "max_height": null,
            "max_width": null,
            "min_height": null,
            "min_width": null,
            "object_fit": null,
            "object_position": null,
            "order": null,
            "overflow": null,
            "overflow_x": null,
            "overflow_y": null,
            "padding": null,
            "right": null,
            "top": null,
            "visibility": null,
            "width": null
          }
        },
        "1f78e91ff3b947c99663a1616b2b6c23": {
          "model_module": "@jupyter-widgets/controls",
          "model_name": "DescriptionStyleModel",
          "model_module_version": "1.5.0",
          "state": {
            "_model_module": "@jupyter-widgets/controls",
            "_model_module_version": "1.5.0",
            "_model_name": "DescriptionStyleModel",
            "_view_count": null,
            "_view_module": "@jupyter-widgets/base",
            "_view_module_version": "1.2.0",
            "_view_name": "StyleView",
            "description_width": ""
          }
        },
        "9aeebad849a84a56af5e068c2535c206": {
          "model_module": "@jupyter-widgets/base",
          "model_name": "LayoutModel",
          "model_module_version": "1.2.0",
          "state": {
            "_model_module": "@jupyter-widgets/base",
            "_model_module_version": "1.2.0",
            "_model_name": "LayoutModel",
            "_view_count": null,
            "_view_module": "@jupyter-widgets/base",
            "_view_module_version": "1.2.0",
            "_view_name": "LayoutView",
            "align_content": null,
            "align_items": null,
            "align_self": null,
            "border": null,
            "bottom": null,
            "display": null,
            "flex": null,
            "flex_flow": null,
            "grid_area": null,
            "grid_auto_columns": null,
            "grid_auto_flow": null,
            "grid_auto_rows": null,
            "grid_column": null,
            "grid_gap": null,
            "grid_row": null,
            "grid_template_areas": null,
            "grid_template_columns": null,
            "grid_template_rows": null,
            "height": null,
            "justify_content": null,
            "justify_items": null,
            "left": null,
            "margin": null,
            "max_height": null,
            "max_width": null,
            "min_height": null,
            "min_width": null,
            "object_fit": null,
            "object_position": null,
            "order": null,
            "overflow": null,
            "overflow_x": null,
            "overflow_y": null,
            "padding": null,
            "right": null,
            "top": null,
            "visibility": null,
            "width": null
          }
        },
        "6c988017b62448bb9bf671d084e0068c": {
          "model_module": "@jupyter-widgets/controls",
          "model_name": "ProgressStyleModel",
          "model_module_version": "1.5.0",
          "state": {
            "_model_module": "@jupyter-widgets/controls",
            "_model_module_version": "1.5.0",
            "_model_name": "ProgressStyleModel",
            "_view_count": null,
            "_view_module": "@jupyter-widgets/base",
            "_view_module_version": "1.2.0",
            "_view_name": "StyleView",
            "bar_color": null,
            "description_width": ""
          }
        },
        "b779ed175d754430bf02cb267c34d9fd": {
          "model_module": "@jupyter-widgets/base",
          "model_name": "LayoutModel",
          "model_module_version": "1.2.0",
          "state": {
            "_model_module": "@jupyter-widgets/base",
            "_model_module_version": "1.2.0",
            "_model_name": "LayoutModel",
            "_view_count": null,
            "_view_module": "@jupyter-widgets/base",
            "_view_module_version": "1.2.0",
            "_view_name": "LayoutView",
            "align_content": null,
            "align_items": null,
            "align_self": null,
            "border": null,
            "bottom": null,
            "display": null,
            "flex": null,
            "flex_flow": null,
            "grid_area": null,
            "grid_auto_columns": null,
            "grid_auto_flow": null,
            "grid_auto_rows": null,
            "grid_column": null,
            "grid_gap": null,
            "grid_row": null,
            "grid_template_areas": null,
            "grid_template_columns": null,
            "grid_template_rows": null,
            "height": null,
            "justify_content": null,
            "justify_items": null,
            "left": null,
            "margin": null,
            "max_height": null,
            "max_width": null,
            "min_height": null,
            "min_width": null,
            "object_fit": null,
            "object_position": null,
            "order": null,
            "overflow": null,
            "overflow_x": null,
            "overflow_y": null,
            "padding": null,
            "right": null,
            "top": null,
            "visibility": null,
            "width": null
          }
        },
        "6fca6786abab49e487dd6113da438585": {
          "model_module": "@jupyter-widgets/controls",
          "model_name": "DescriptionStyleModel",
          "model_module_version": "1.5.0",
          "state": {
            "_model_module": "@jupyter-widgets/controls",
            "_model_module_version": "1.5.0",
            "_model_name": "DescriptionStyleModel",
            "_view_count": null,
            "_view_module": "@jupyter-widgets/base",
            "_view_module_version": "1.2.0",
            "_view_name": "StyleView",
            "description_width": ""
          }
        },
        "5dab2e8cdd7a4913ad0257bbac8ba288": {
          "model_module": "@jupyter-widgets/controls",
          "model_name": "HBoxModel",
          "model_module_version": "1.5.0",
          "state": {
            "_dom_classes": [],
            "_model_module": "@jupyter-widgets/controls",
            "_model_module_version": "1.5.0",
            "_model_name": "HBoxModel",
            "_view_count": null,
            "_view_module": "@jupyter-widgets/controls",
            "_view_module_version": "1.5.0",
            "_view_name": "HBoxView",
            "box_style": "",
            "children": [
              "IPY_MODEL_a8157cedc64342e7be6157e55ed5817c",
              "IPY_MODEL_383f8c42a3984d64ae8dfe30d0e7bfb7",
              "IPY_MODEL_c9b855fe9dd141978ceddec58b3d118a"
            ],
            "layout": "IPY_MODEL_fc8d0dd3798a4ee094517f99fa59cb5c"
          }
        },
        "a8157cedc64342e7be6157e55ed5817c": {
          "model_module": "@jupyter-widgets/controls",
          "model_name": "HTMLModel",
          "model_module_version": "1.5.0",
          "state": {
            "_dom_classes": [],
            "_model_module": "@jupyter-widgets/controls",
            "_model_module_version": "1.5.0",
            "_model_name": "HTMLModel",
            "_view_count": null,
            "_view_module": "@jupyter-widgets/controls",
            "_view_module_version": "1.5.0",
            "_view_name": "HTMLView",
            "description": "",
            "description_tooltip": null,
            "layout": "IPY_MODEL_480a565274d4446f8e7a5f64396345cb",
            "placeholder": "​",
            "style": "IPY_MODEL_1f7984d9b93d432b8ba534ee69af7ab8",
            "value": ""
          }
        },
        "383f8c42a3984d64ae8dfe30d0e7bfb7": {
          "model_module": "@jupyter-widgets/controls",
          "model_name": "FloatProgressModel",
          "model_module_version": "1.5.0",
          "state": {
            "_dom_classes": [],
            "_model_module": "@jupyter-widgets/controls",
            "_model_module_version": "1.5.0",
            "_model_name": "FloatProgressModel",
            "_view_count": null,
            "_view_module": "@jupyter-widgets/controls",
            "_view_module_version": "1.5.0",
            "_view_name": "ProgressView",
            "bar_style": "info",
            "description": "",
            "description_tooltip": null,
            "layout": "IPY_MODEL_2af25874ec7f452eb3488272c09eb9e5",
            "max": 1,
            "min": 0,
            "orientation": "horizontal",
            "style": "IPY_MODEL_e0f6cdea9a48485a825a01b7eef985d1",
            "value": 1
          }
        },
        "c9b855fe9dd141978ceddec58b3d118a": {
          "model_module": "@jupyter-widgets/controls",
          "model_name": "HTMLModel",
          "model_module_version": "1.5.0",
          "state": {
            "_dom_classes": [],
            "_model_module": "@jupyter-widgets/controls",
            "_model_module_version": "1.5.0",
            "_model_name": "HTMLModel",
            "_view_count": null,
            "_view_module": "@jupyter-widgets/controls",
            "_view_module_version": "1.5.0",
            "_view_name": "HTMLView",
            "description": "",
            "description_tooltip": null,
            "layout": "IPY_MODEL_29e5b388fdb141418a3a3a379e97c3ad",
            "placeholder": "​",
            "style": "IPY_MODEL_9d590349db1246c18941af3bd628e75e",
            "value": " 9987/0 [00:07&lt;00:00, 876.52 examples/s]"
          }
        },
        "fc8d0dd3798a4ee094517f99fa59cb5c": {
          "model_module": "@jupyter-widgets/base",
          "model_name": "LayoutModel",
          "model_module_version": "1.2.0",
          "state": {
            "_model_module": "@jupyter-widgets/base",
            "_model_module_version": "1.2.0",
            "_model_name": "LayoutModel",
            "_view_count": null,
            "_view_module": "@jupyter-widgets/base",
            "_view_module_version": "1.2.0",
            "_view_name": "LayoutView",
            "align_content": null,
            "align_items": null,
            "align_self": null,
            "border": null,
            "bottom": null,
            "display": null,
            "flex": null,
            "flex_flow": null,
            "grid_area": null,
            "grid_auto_columns": null,
            "grid_auto_flow": null,
            "grid_auto_rows": null,
            "grid_column": null,
            "grid_gap": null,
            "grid_row": null,
            "grid_template_areas": null,
            "grid_template_columns": null,
            "grid_template_rows": null,
            "height": null,
            "justify_content": null,
            "justify_items": null,
            "left": null,
            "margin": null,
            "max_height": null,
            "max_width": null,
            "min_height": null,
            "min_width": null,
            "object_fit": null,
            "object_position": null,
            "order": null,
            "overflow": null,
            "overflow_x": null,
            "overflow_y": null,
            "padding": null,
            "right": null,
            "top": null,
            "visibility": null,
            "width": null
          }
        },
        "480a565274d4446f8e7a5f64396345cb": {
          "model_module": "@jupyter-widgets/base",
          "model_name": "LayoutModel",
          "model_module_version": "1.2.0",
          "state": {
            "_model_module": "@jupyter-widgets/base",
            "_model_module_version": "1.2.0",
            "_model_name": "LayoutModel",
            "_view_count": null,
            "_view_module": "@jupyter-widgets/base",
            "_view_module_version": "1.2.0",
            "_view_name": "LayoutView",
            "align_content": null,
            "align_items": null,
            "align_self": null,
            "border": null,
            "bottom": null,
            "display": null,
            "flex": null,
            "flex_flow": null,
            "grid_area": null,
            "grid_auto_columns": null,
            "grid_auto_flow": null,
            "grid_auto_rows": null,
            "grid_column": null,
            "grid_gap": null,
            "grid_row": null,
            "grid_template_areas": null,
            "grid_template_columns": null,
            "grid_template_rows": null,
            "height": null,
            "justify_content": null,
            "justify_items": null,
            "left": null,
            "margin": null,
            "max_height": null,
            "max_width": null,
            "min_height": null,
            "min_width": null,
            "object_fit": null,
            "object_position": null,
            "order": null,
            "overflow": null,
            "overflow_x": null,
            "overflow_y": null,
            "padding": null,
            "right": null,
            "top": null,
            "visibility": null,
            "width": null
          }
        },
        "1f7984d9b93d432b8ba534ee69af7ab8": {
          "model_module": "@jupyter-widgets/controls",
          "model_name": "DescriptionStyleModel",
          "model_module_version": "1.5.0",
          "state": {
            "_model_module": "@jupyter-widgets/controls",
            "_model_module_version": "1.5.0",
            "_model_name": "DescriptionStyleModel",
            "_view_count": null,
            "_view_module": "@jupyter-widgets/base",
            "_view_module_version": "1.2.0",
            "_view_name": "StyleView",
            "description_width": ""
          }
        },
        "2af25874ec7f452eb3488272c09eb9e5": {
          "model_module": "@jupyter-widgets/base",
          "model_name": "LayoutModel",
          "model_module_version": "1.2.0",
          "state": {
            "_model_module": "@jupyter-widgets/base",
            "_model_module_version": "1.2.0",
            "_model_name": "LayoutModel",
            "_view_count": null,
            "_view_module": "@jupyter-widgets/base",
            "_view_module_version": "1.2.0",
            "_view_name": "LayoutView",
            "align_content": null,
            "align_items": null,
            "align_self": null,
            "border": null,
            "bottom": null,
            "display": null,
            "flex": null,
            "flex_flow": null,
            "grid_area": null,
            "grid_auto_columns": null,
            "grid_auto_flow": null,
            "grid_auto_rows": null,
            "grid_column": null,
            "grid_gap": null,
            "grid_row": null,
            "grid_template_areas": null,
            "grid_template_columns": null,
            "grid_template_rows": null,
            "height": null,
            "justify_content": null,
            "justify_items": null,
            "left": null,
            "margin": null,
            "max_height": null,
            "max_width": null,
            "min_height": null,
            "min_width": null,
            "object_fit": null,
            "object_position": null,
            "order": null,
            "overflow": null,
            "overflow_x": null,
            "overflow_y": null,
            "padding": null,
            "right": null,
            "top": null,
            "visibility": null,
            "width": "20px"
          }
        },
        "e0f6cdea9a48485a825a01b7eef985d1": {
          "model_module": "@jupyter-widgets/controls",
          "model_name": "ProgressStyleModel",
          "model_module_version": "1.5.0",
          "state": {
            "_model_module": "@jupyter-widgets/controls",
            "_model_module_version": "1.5.0",
            "_model_name": "ProgressStyleModel",
            "_view_count": null,
            "_view_module": "@jupyter-widgets/base",
            "_view_module_version": "1.2.0",
            "_view_name": "StyleView",
            "bar_color": null,
            "description_width": ""
          }
        },
        "29e5b388fdb141418a3a3a379e97c3ad": {
          "model_module": "@jupyter-widgets/base",
          "model_name": "LayoutModel",
          "model_module_version": "1.2.0",
          "state": {
            "_model_module": "@jupyter-widgets/base",
            "_model_module_version": "1.2.0",
            "_model_name": "LayoutModel",
            "_view_count": null,
            "_view_module": "@jupyter-widgets/base",
            "_view_module_version": "1.2.0",
            "_view_name": "LayoutView",
            "align_content": null,
            "align_items": null,
            "align_self": null,
            "border": null,
            "bottom": null,
            "display": null,
            "flex": null,
            "flex_flow": null,
            "grid_area": null,
            "grid_auto_columns": null,
            "grid_auto_flow": null,
            "grid_auto_rows": null,
            "grid_column": null,
            "grid_gap": null,
            "grid_row": null,
            "grid_template_areas": null,
            "grid_template_columns": null,
            "grid_template_rows": null,
            "height": null,
            "justify_content": null,
            "justify_items": null,
            "left": null,
            "margin": null,
            "max_height": null,
            "max_width": null,
            "min_height": null,
            "min_width": null,
            "object_fit": null,
            "object_position": null,
            "order": null,
            "overflow": null,
            "overflow_x": null,
            "overflow_y": null,
            "padding": null,
            "right": null,
            "top": null,
            "visibility": null,
            "width": null
          }
        },
        "9d590349db1246c18941af3bd628e75e": {
          "model_module": "@jupyter-widgets/controls",
          "model_name": "DescriptionStyleModel",
          "model_module_version": "1.5.0",
          "state": {
            "_model_module": "@jupyter-widgets/controls",
            "_model_module_version": "1.5.0",
            "_model_name": "DescriptionStyleModel",
            "_view_count": null,
            "_view_module": "@jupyter-widgets/base",
            "_view_module_version": "1.2.0",
            "_view_name": "StyleView",
            "description_width": ""
          }
        },
        "42d6a0a0f3fd4213b8ea5b1e39e06ef2": {
          "model_module": "@jupyter-widgets/controls",
          "model_name": "HBoxModel",
          "model_module_version": "1.5.0",
          "state": {
            "_dom_classes": [],
            "_model_module": "@jupyter-widgets/controls",
            "_model_module_version": "1.5.0",
            "_model_name": "HBoxModel",
            "_view_count": null,
            "_view_module": "@jupyter-widgets/controls",
            "_view_module_version": "1.5.0",
            "_view_name": "HBoxView",
            "box_style": "",
            "children": [
              "IPY_MODEL_1c8b8d22b1a2490e9421a20827d2d7ec",
              "IPY_MODEL_45d1ed3a7dbe4ecca7e924d2ecc512bf",
              "IPY_MODEL_4d822bdff944418eab03117e85f54af1"
            ],
            "layout": "IPY_MODEL_0b99408a833b458a8dd562d4647f09a1"
          }
        },
        "1c8b8d22b1a2490e9421a20827d2d7ec": {
          "model_module": "@jupyter-widgets/controls",
          "model_name": "HTMLModel",
          "model_module_version": "1.5.0",
          "state": {
            "_dom_classes": [],
            "_model_module": "@jupyter-widgets/controls",
            "_model_module_version": "1.5.0",
            "_model_name": "HTMLModel",
            "_view_count": null,
            "_view_module": "@jupyter-widgets/controls",
            "_view_module_version": "1.5.0",
            "_view_name": "HTMLView",
            "description": "",
            "description_tooltip": null,
            "layout": "IPY_MODEL_949db1444e8f4833b4f9c7a2e0e1ee45",
            "placeholder": "​",
            "style": "IPY_MODEL_cd9b7b56a7d4431cbaf9e1661a496cc7",
            "value": "100%"
          }
        },
        "45d1ed3a7dbe4ecca7e924d2ecc512bf": {
          "model_module": "@jupyter-widgets/controls",
          "model_name": "FloatProgressModel",
          "model_module_version": "1.5.0",
          "state": {
            "_dom_classes": [],
            "_model_module": "@jupyter-widgets/controls",
            "_model_module_version": "1.5.0",
            "_model_name": "FloatProgressModel",
            "_view_count": null,
            "_view_module": "@jupyter-widgets/controls",
            "_view_module_version": "1.5.0",
            "_view_name": "ProgressView",
            "bar_style": "danger",
            "description": "",
            "description_tooltip": null,
            "layout": "IPY_MODEL_f66b873ca73e40df8b24d3f84f979117",
            "max": 10000,
            "min": 0,
            "orientation": "horizontal",
            "style": "IPY_MODEL_5c4781a21bfa4fc4a800d6ee31179091",
            "value": 9999
          }
        },
        "4d822bdff944418eab03117e85f54af1": {
          "model_module": "@jupyter-widgets/controls",
          "model_name": "HTMLModel",
          "model_module_version": "1.5.0",
          "state": {
            "_dom_classes": [],
            "_model_module": "@jupyter-widgets/controls",
            "_model_module_version": "1.5.0",
            "_model_name": "HTMLModel",
            "_view_count": null,
            "_view_module": "@jupyter-widgets/controls",
            "_view_module_version": "1.5.0",
            "_view_name": "HTMLView",
            "description": "",
            "description_tooltip": null,
            "layout": "IPY_MODEL_95a87cf1ee9f4964a2c2257348b68196",
            "placeholder": "​",
            "style": "IPY_MODEL_6464fc44a537453d96fac515e648ae39",
            "value": " 9999/10000 [00:00&lt;00:00, 78497.16 examples/s]"
          }
        },
        "0b99408a833b458a8dd562d4647f09a1": {
          "model_module": "@jupyter-widgets/base",
          "model_name": "LayoutModel",
          "model_module_version": "1.2.0",
          "state": {
            "_model_module": "@jupyter-widgets/base",
            "_model_module_version": "1.2.0",
            "_model_name": "LayoutModel",
            "_view_count": null,
            "_view_module": "@jupyter-widgets/base",
            "_view_module_version": "1.2.0",
            "_view_name": "LayoutView",
            "align_content": null,
            "align_items": null,
            "align_self": null,
            "border": null,
            "bottom": null,
            "display": null,
            "flex": null,
            "flex_flow": null,
            "grid_area": null,
            "grid_auto_columns": null,
            "grid_auto_flow": null,
            "grid_auto_rows": null,
            "grid_column": null,
            "grid_gap": null,
            "grid_row": null,
            "grid_template_areas": null,
            "grid_template_columns": null,
            "grid_template_rows": null,
            "height": null,
            "justify_content": null,
            "justify_items": null,
            "left": null,
            "margin": null,
            "max_height": null,
            "max_width": null,
            "min_height": null,
            "min_width": null,
            "object_fit": null,
            "object_position": null,
            "order": null,
            "overflow": null,
            "overflow_x": null,
            "overflow_y": null,
            "padding": null,
            "right": null,
            "top": null,
            "visibility": null,
            "width": null
          }
        },
        "949db1444e8f4833b4f9c7a2e0e1ee45": {
          "model_module": "@jupyter-widgets/base",
          "model_name": "LayoutModel",
          "model_module_version": "1.2.0",
          "state": {
            "_model_module": "@jupyter-widgets/base",
            "_model_module_version": "1.2.0",
            "_model_name": "LayoutModel",
            "_view_count": null,
            "_view_module": "@jupyter-widgets/base",
            "_view_module_version": "1.2.0",
            "_view_name": "LayoutView",
            "align_content": null,
            "align_items": null,
            "align_self": null,
            "border": null,
            "bottom": null,
            "display": null,
            "flex": null,
            "flex_flow": null,
            "grid_area": null,
            "grid_auto_columns": null,
            "grid_auto_flow": null,
            "grid_auto_rows": null,
            "grid_column": null,
            "grid_gap": null,
            "grid_row": null,
            "grid_template_areas": null,
            "grid_template_columns": null,
            "grid_template_rows": null,
            "height": null,
            "justify_content": null,
            "justify_items": null,
            "left": null,
            "margin": null,
            "max_height": null,
            "max_width": null,
            "min_height": null,
            "min_width": null,
            "object_fit": null,
            "object_position": null,
            "order": null,
            "overflow": null,
            "overflow_x": null,
            "overflow_y": null,
            "padding": null,
            "right": null,
            "top": null,
            "visibility": null,
            "width": null
          }
        },
        "cd9b7b56a7d4431cbaf9e1661a496cc7": {
          "model_module": "@jupyter-widgets/controls",
          "model_name": "DescriptionStyleModel",
          "model_module_version": "1.5.0",
          "state": {
            "_model_module": "@jupyter-widgets/controls",
            "_model_module_version": "1.5.0",
            "_model_name": "DescriptionStyleModel",
            "_view_count": null,
            "_view_module": "@jupyter-widgets/base",
            "_view_module_version": "1.2.0",
            "_view_name": "StyleView",
            "description_width": ""
          }
        },
        "f66b873ca73e40df8b24d3f84f979117": {
          "model_module": "@jupyter-widgets/base",
          "model_name": "LayoutModel",
          "model_module_version": "1.2.0",
          "state": {
            "_model_module": "@jupyter-widgets/base",
            "_model_module_version": "1.2.0",
            "_model_name": "LayoutModel",
            "_view_count": null,
            "_view_module": "@jupyter-widgets/base",
            "_view_module_version": "1.2.0",
            "_view_name": "LayoutView",
            "align_content": null,
            "align_items": null,
            "align_self": null,
            "border": null,
            "bottom": null,
            "display": null,
            "flex": null,
            "flex_flow": null,
            "grid_area": null,
            "grid_auto_columns": null,
            "grid_auto_flow": null,
            "grid_auto_rows": null,
            "grid_column": null,
            "grid_gap": null,
            "grid_row": null,
            "grid_template_areas": null,
            "grid_template_columns": null,
            "grid_template_rows": null,
            "height": null,
            "justify_content": null,
            "justify_items": null,
            "left": null,
            "margin": null,
            "max_height": null,
            "max_width": null,
            "min_height": null,
            "min_width": null,
            "object_fit": null,
            "object_position": null,
            "order": null,
            "overflow": null,
            "overflow_x": null,
            "overflow_y": null,
            "padding": null,
            "right": null,
            "top": null,
            "visibility": null,
            "width": null
          }
        },
        "5c4781a21bfa4fc4a800d6ee31179091": {
          "model_module": "@jupyter-widgets/controls",
          "model_name": "ProgressStyleModel",
          "model_module_version": "1.5.0",
          "state": {
            "_model_module": "@jupyter-widgets/controls",
            "_model_module_version": "1.5.0",
            "_model_name": "ProgressStyleModel",
            "_view_count": null,
            "_view_module": "@jupyter-widgets/base",
            "_view_module_version": "1.2.0",
            "_view_name": "StyleView",
            "bar_color": null,
            "description_width": ""
          }
        },
        "95a87cf1ee9f4964a2c2257348b68196": {
          "model_module": "@jupyter-widgets/base",
          "model_name": "LayoutModel",
          "model_module_version": "1.2.0",
          "state": {
            "_model_module": "@jupyter-widgets/base",
            "_model_module_version": "1.2.0",
            "_model_name": "LayoutModel",
            "_view_count": null,
            "_view_module": "@jupyter-widgets/base",
            "_view_module_version": "1.2.0",
            "_view_name": "LayoutView",
            "align_content": null,
            "align_items": null,
            "align_self": null,
            "border": null,
            "bottom": null,
            "display": null,
            "flex": null,
            "flex_flow": null,
            "grid_area": null,
            "grid_auto_columns": null,
            "grid_auto_flow": null,
            "grid_auto_rows": null,
            "grid_column": null,
            "grid_gap": null,
            "grid_row": null,
            "grid_template_areas": null,
            "grid_template_columns": null,
            "grid_template_rows": null,
            "height": null,
            "justify_content": null,
            "justify_items": null,
            "left": null,
            "margin": null,
            "max_height": null,
            "max_width": null,
            "min_height": null,
            "min_width": null,
            "object_fit": null,
            "object_position": null,
            "order": null,
            "overflow": null,
            "overflow_x": null,
            "overflow_y": null,
            "padding": null,
            "right": null,
            "top": null,
            "visibility": null,
            "width": null
          }
        },
        "6464fc44a537453d96fac515e648ae39": {
          "model_module": "@jupyter-widgets/controls",
          "model_name": "DescriptionStyleModel",
          "model_module_version": "1.5.0",
          "state": {
            "_model_module": "@jupyter-widgets/controls",
            "_model_module_version": "1.5.0",
            "_model_name": "DescriptionStyleModel",
            "_view_count": null,
            "_view_module": "@jupyter-widgets/base",
            "_view_module_version": "1.2.0",
            "_view_name": "StyleView",
            "description_width": ""
          }
        }
      }
    }
  },
  "nbformat": 4,
  "nbformat_minor": 0
}